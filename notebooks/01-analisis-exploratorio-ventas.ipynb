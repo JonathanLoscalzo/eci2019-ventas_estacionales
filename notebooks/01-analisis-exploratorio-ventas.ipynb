{
 "cells": [
  {
   "cell_type": "code",
   "execution_count": 1,
   "metadata": {},
   "outputs": [],
   "source": [
    "import pandas as pd\n",
    "import matplotlib.pyplot as plt\n",
    "import warnings\n",
    "warnings.filterwarnings('ignore')\n",
    "# OPTIONAL: Load the \"autoreload\" extension so that code can change\n",
    "%load_ext autoreload\n",
    "\n",
    "# OPTIONAL: always reload modules so that as you change code in src, it gets loaded\n",
    "%autoreload 2"
   ]
  },
  {
   "cell_type": "markdown",
   "metadata": {},
   "source": [
    "# Análisis exploratorio de Ventas (ventas.txt)\n",
    "En este archivo, podemos encontrar las ventas diarias del producto en cuestión, discriminadas por unidades.\n",
    "El objetivo de notebook será generar un dataset preprocesado que acumule las ventas para los distintos puntos de venta.\n",
    "\n",
    "Las columnas son: \n",
    "- fecha: Fecha de venta.\n",
    "- id_pos: Identificador único de Punto de Venta.\n",
    "- cantidad_envios: Cantidad de productos vendidos.\n",
    "- canal: Es la clase de tienda en la que se realizó la venta.\n",
    "\n",
    "Realizamos la importación del archivo de ventas, y una descripción del dataset: \n",
    "- utilizamos la función **describe** que nos ofrece estadísticas sobre el dataset\n",
    "- utilizamos la función **info** que visualiza el tipo de datos de las columnas\n",
    "- utilizamos la función **sample** que nos retorna un ejemplo de datos"
   ]
  },
  {
   "cell_type": "code",
   "execution_count": 2,
   "metadata": {},
   "outputs": [
    {
     "data": {
      "text/html": [
       "<div>\n",
       "<style scoped>\n",
       "    .dataframe tbody tr th:only-of-type {\n",
       "        vertical-align: middle;\n",
       "    }\n",
       "\n",
       "    .dataframe tbody tr th {\n",
       "        vertical-align: top;\n",
       "    }\n",
       "\n",
       "    .dataframe thead th {\n",
       "        text-align: right;\n",
       "    }\n",
       "</style>\n",
       "<table border=\"1\" class=\"dataframe\">\n",
       "  <thead>\n",
       "    <tr style=\"text-align: right;\">\n",
       "      <th></th>\n",
       "      <th>fecha</th>\n",
       "      <th>id_pos</th>\n",
       "      <th>unidades</th>\n",
       "      <th>canal</th>\n",
       "    </tr>\n",
       "  </thead>\n",
       "  <tbody>\n",
       "    <tr>\n",
       "      <th>204576</th>\n",
       "      <td>2013-12-20</td>\n",
       "      <td>4656</td>\n",
       "      <td>1</td>\n",
       "      <td>ALMACEN</td>\n",
       "    </tr>\n",
       "    <tr>\n",
       "      <th>50043</th>\n",
       "      <td>2012-12-12</td>\n",
       "      <td>3537</td>\n",
       "      <td>1</td>\n",
       "      <td>ALMACEN</td>\n",
       "    </tr>\n",
       "    <tr>\n",
       "      <th>236765</th>\n",
       "      <td>2013-12-24</td>\n",
       "      <td>15539</td>\n",
       "      <td>3</td>\n",
       "      <td>ALMACEN</td>\n",
       "    </tr>\n",
       "    <tr>\n",
       "      <th>171847</th>\n",
       "      <td>2013-12-15</td>\n",
       "      <td>12268</td>\n",
       "      <td>3</td>\n",
       "      <td>ALMACEN</td>\n",
       "    </tr>\n",
       "    <tr>\n",
       "      <th>172346</th>\n",
       "      <td>2013-12-15</td>\n",
       "      <td>5487</td>\n",
       "      <td>1</td>\n",
       "      <td>ALMACEN</td>\n",
       "    </tr>\n",
       "  </tbody>\n",
       "</table>\n",
       "</div>"
      ],
      "text/plain": [
       "            fecha  id_pos  unidades    canal\n",
       "204576 2013-12-20    4656         1  ALMACEN\n",
       "50043  2012-12-12    3537         1  ALMACEN\n",
       "236765 2013-12-24   15539         3  ALMACEN\n",
       "171847 2013-12-15   12268         3  ALMACEN\n",
       "172346 2013-12-15    5487         1  ALMACEN"
      ]
     },
     "execution_count": 2,
     "metadata": {},
     "output_type": "execute_result"
    }
   ],
   "source": [
    "df_ventas = (\n",
    "    pd.read_csv(\n",
    "        '../data/raw/ventas.txt', \n",
    "        delimiter = \"|\", \n",
    "        infer_datetime_format=True, \n",
    "        parse_dates=[0]\n",
    "    )\n",
    ")\n",
    "\n",
    "df_ventas.sample(5)"
   ]
  },
  {
   "cell_type": "markdown",
   "metadata": {},
   "source": [
    "Realizamos un análisis descriptivo de las ventas"
   ]
  },
  {
   "cell_type": "code",
   "execution_count": 3,
   "metadata": {},
   "outputs": [
    {
     "data": {
      "text/html": [
       "<div>\n",
       "<style scoped>\n",
       "    .dataframe tbody tr th:only-of-type {\n",
       "        vertical-align: middle;\n",
       "    }\n",
       "\n",
       "    .dataframe tbody tr th {\n",
       "        vertical-align: top;\n",
       "    }\n",
       "\n",
       "    .dataframe thead th {\n",
       "        text-align: right;\n",
       "    }\n",
       "</style>\n",
       "<table border=\"1\" class=\"dataframe\">\n",
       "  <thead>\n",
       "    <tr style=\"text-align: right;\">\n",
       "      <th></th>\n",
       "      <th>fecha</th>\n",
       "      <th>id_pos</th>\n",
       "      <th>unidades</th>\n",
       "      <th>canal</th>\n",
       "    </tr>\n",
       "  </thead>\n",
       "  <tbody>\n",
       "    <tr>\n",
       "      <th>count</th>\n",
       "      <td>266436</td>\n",
       "      <td>266436.000000</td>\n",
       "      <td>266436.000000</td>\n",
       "      <td>266436</td>\n",
       "    </tr>\n",
       "    <tr>\n",
       "      <th>unique</th>\n",
       "      <td>276</td>\n",
       "      <td>NaN</td>\n",
       "      <td>NaN</td>\n",
       "      <td>4</td>\n",
       "    </tr>\n",
       "    <tr>\n",
       "      <th>top</th>\n",
       "      <td>2013-12-24 00:00:00</td>\n",
       "      <td>NaN</td>\n",
       "      <td>NaN</td>\n",
       "      <td>ALMACEN</td>\n",
       "    </tr>\n",
       "    <tr>\n",
       "      <th>freq</th>\n",
       "      <td>9726</td>\n",
       "      <td>NaN</td>\n",
       "      <td>NaN</td>\n",
       "      <td>265207</td>\n",
       "    </tr>\n",
       "    <tr>\n",
       "      <th>first</th>\n",
       "      <td>2012-10-01 00:00:00</td>\n",
       "      <td>NaN</td>\n",
       "      <td>NaN</td>\n",
       "      <td>NaN</td>\n",
       "    </tr>\n",
       "    <tr>\n",
       "      <th>last</th>\n",
       "      <td>2014-11-30 00:00:00</td>\n",
       "      <td>NaN</td>\n",
       "      <td>NaN</td>\n",
       "      <td>NaN</td>\n",
       "    </tr>\n",
       "    <tr>\n",
       "      <th>mean</th>\n",
       "      <td>NaN</td>\n",
       "      <td>7973.083667</td>\n",
       "      <td>2.378481</td>\n",
       "      <td>NaN</td>\n",
       "    </tr>\n",
       "    <tr>\n",
       "      <th>std</th>\n",
       "      <td>NaN</td>\n",
       "      <td>4707.704857</td>\n",
       "      <td>2.391836</td>\n",
       "      <td>NaN</td>\n",
       "    </tr>\n",
       "    <tr>\n",
       "      <th>min</th>\n",
       "      <td>NaN</td>\n",
       "      <td>3142.000000</td>\n",
       "      <td>-29.000000</td>\n",
       "      <td>NaN</td>\n",
       "    </tr>\n",
       "    <tr>\n",
       "      <th>25%</th>\n",
       "      <td>NaN</td>\n",
       "      <td>4964.000000</td>\n",
       "      <td>1.000000</td>\n",
       "      <td>NaN</td>\n",
       "    </tr>\n",
       "    <tr>\n",
       "      <th>50%</th>\n",
       "      <td>NaN</td>\n",
       "      <td>6701.000000</td>\n",
       "      <td>2.000000</td>\n",
       "      <td>NaN</td>\n",
       "    </tr>\n",
       "    <tr>\n",
       "      <th>75%</th>\n",
       "      <td>NaN</td>\n",
       "      <td>9500.000000</td>\n",
       "      <td>3.000000</td>\n",
       "      <td>NaN</td>\n",
       "    </tr>\n",
       "    <tr>\n",
       "      <th>max</th>\n",
       "      <td>NaN</td>\n",
       "      <td>63432.000000</td>\n",
       "      <td>59.000000</td>\n",
       "      <td>NaN</td>\n",
       "    </tr>\n",
       "  </tbody>\n",
       "</table>\n",
       "</div>"
      ],
      "text/plain": [
       "                      fecha         id_pos       unidades    canal\n",
       "count                266436  266436.000000  266436.000000   266436\n",
       "unique                  276            NaN            NaN        4\n",
       "top     2013-12-24 00:00:00            NaN            NaN  ALMACEN\n",
       "freq                   9726            NaN            NaN   265207\n",
       "first   2012-10-01 00:00:00            NaN            NaN      NaN\n",
       "last    2014-11-30 00:00:00            NaN            NaN      NaN\n",
       "mean                    NaN    7973.083667       2.378481      NaN\n",
       "std                     NaN    4707.704857       2.391836      NaN\n",
       "min                     NaN    3142.000000     -29.000000      NaN\n",
       "25%                     NaN    4964.000000       1.000000      NaN\n",
       "50%                     NaN    6701.000000       2.000000      NaN\n",
       "75%                     NaN    9500.000000       3.000000      NaN\n",
       "max                     NaN   63432.000000      59.000000      NaN"
      ]
     },
     "execution_count": 3,
     "metadata": {},
     "output_type": "execute_result"
    }
   ],
   "source": [
    "df_ventas.describe(include='all')"
   ]
  },
  {
   "cell_type": "code",
   "execution_count": 4,
   "metadata": {},
   "outputs": [
    {
     "name": "stdout",
     "output_type": "stream",
     "text": [
      "<class 'pandas.core.frame.DataFrame'>\n",
      "RangeIndex: 266436 entries, 0 to 266435\n",
      "Data columns (total 4 columns):\n",
      "fecha       266436 non-null datetime64[ns]\n",
      "id_pos      266436 non-null int64\n",
      "unidades    266436 non-null int64\n",
      "canal       266436 non-null object\n",
      "dtypes: datetime64[ns](1), int64(2), object(1)\n",
      "memory usage: 8.1+ MB\n"
     ]
    }
   ],
   "source": [
    "df_ventas.info()"
   ]
  },
  {
   "cell_type": "markdown",
   "metadata": {},
   "source": [
    "El dataset no contiene valores nulos en ninguna fila:"
   ]
  },
  {
   "cell_type": "code",
   "execution_count": 5,
   "metadata": {},
   "outputs": [
    {
     "data": {
      "text/plain": [
       "fecha       False\n",
       "id_pos      False\n",
       "unidades    False\n",
       "canal       False\n",
       "dtype: bool"
      ]
     },
     "execution_count": 5,
     "metadata": {},
     "output_type": "execute_result"
    }
   ],
   "source": [
    "df_ventas.isna().any()"
   ]
  },
  {
   "cell_type": "markdown",
   "metadata": {},
   "source": [
    "Con esta descripción obtenemos las siguientes conclusiones:\n",
    " - la fecha inicial es 01/10/2012 y el fin es 30/11/2014\n",
    " - tenemos 266436 muestras\n",
    " - tenemos 4 tipos de **canales**\n",
    " - en unidades hay valores negativos (posibles errores)\n",
    " - no existen valores faltantes en las columnas que debamos imputar"
   ]
  },
  {
   "cell_type": "markdown",
   "metadata": {},
   "source": [
    "### Visualizando/explorando nuestros datos (Análisis Descriptivo)\n",
    "Graficamos un diagrama de lineas y otro scatter con las ventas por fecha, agrupado por mes. Se puede observar un pico en las ventas en el mes de diciembre, naturalmente el producto tenía su pico en esos meses según la descripción del problema.\n",
    "\n",
    "Verificamos cuantas muestras totales tenemos por mes: "
   ]
  },
  {
   "cell_type": "markdown",
   "metadata": {},
   "source": [
    "Con la técnica de \"resampling\", agrupamos los datos por mes, sumarizamos las unidades y contabilizamos la cantidad de ventas. Realizamos un gráfico por cada una de ellas.\n",
    "\n",
    "Primero el gráfico por cantidad de ventas mensuales que posee el dataset:"
   ]
  },
  {
   "cell_type": "code",
   "execution_count": 6,
   "metadata": {},
   "outputs": [
    {
     "data": {
      "image/png": "[encoded data removed]",
      "text/plain": [
       "<Figure size 1080x360 with 1 Axes>"
      ]
     },
     "metadata": {
      "needs_background": "light"
     },
     "output_type": "display_data"
    }
   ],
   "source": [
    "ax = ( \n",
    "    df_ventas\n",
    "    .set_index(\"fecha\")\n",
    "    .resample(\"M\")\n",
    "    .size()\n",
    "    .plot.line(figsize=(15,5), marker='.')\n",
    ")\n",
    "plt.grid(True)"
   ]
  },
  {
   "cell_type": "markdown",
   "metadata": {},
   "source": [
    "Luego sumarizamos las unidades que tenemos por mes en todos los puntos de venta."
   ]
  },
  {
   "cell_type": "code",
   "execution_count": 7,
   "metadata": {},
   "outputs": [
    {
     "data": {
      "image/png": "[encoded data removed]",
      "text/plain": [
       "<Figure size 1080x360 with 1 Axes>"
      ]
     },
     "metadata": {
      "needs_background": "light"
     },
     "output_type": "display_data"
    }
   ],
   "source": [
    "ax = ( \n",
    "    df_ventas\n",
    "    .set_index(\"fecha\")\n",
    "    .resample(\"M\")\n",
    "    .unidades.sum()\n",
    "    .plot.line(figsize=(15,5), marker='.')\n",
    ")\n",
    "plt.grid(True)"
   ]
  },
  {
   "cell_type": "markdown",
   "metadata": {},
   "source": [
    "Realizamos el mismo gráfico, pero con los datos de las ventas diarias. Esto nos provee una vista de como nuestros datos se esparcen con respecto a las fechas. "
   ]
  },
  {
   "cell_type": "code",
   "execution_count": 8,
   "metadata": {},
   "outputs": [
    {
     "data": {
      "image/png": "[encoded data removed]",
      "text/plain": [
       "<Figure size 864x360 with 1 Axes>"
      ]
     },
     "metadata": {
      "needs_background": "light"
     },
     "output_type": "display_data"
    }
   ],
   "source": [
    "# Realizamos el mismo gráfico, pero con los puntos por día\n",
    "ax = ( \n",
    "    df_ventas.set_index(\"fecha\")\n",
    "    .groupby('fecha').unidades.sum()\n",
    "    .plot.line(figsize=(12,5), marker='.', grid=True, style=\"o\", ms=\"8\")\n",
    ")"
   ]
  },
  {
   "cell_type": "markdown",
   "metadata": {},
   "source": [
    "Visualizamos la cantidad de unidades por **día del año** que contiene nuestro dataset. \n",
    "Las fechas están codificadas como el día del año. Esto nos permite en el mismo gráfico, marcar las 3 lineas de ventas. El día del año corresponde a un número entre 1 y 365 ( o 366 si es un año bisiesto )"
   ]
  },
  {
   "cell_type": "code",
   "execution_count": 9,
   "metadata": {},
   "outputs": [
    {
     "data": {
      "image/png": "[encoded data removed]",
      "text/plain": [
       "<Figure size 1080x432 with 1 Axes>"
      ]
     },
     "metadata": {
      "needs_background": "light"
     },
     "output_type": "display_data"
    }
   ],
   "source": [
    "_, ax = plt.subplots(1,1, sharex=True, sharey=True)\n",
    "for i in [\"2012\", \"2013\", \"2014\"]:\n",
    "    data = df_ventas.set_index(\"fecha\").loc[i]\n",
    "    data.index = data.index.dayofyear\n",
    "    data = data.loc[data.index > 305]\n",
    "    data = data.groupby('fecha').unidades.sum()\n",
    "    data.plot.line(figsize=(15,6), marker='.', ax=ax, linewidth=0.75)\n",
    "    ax.grid(True)\n",
    "    ax.set_xlabel(\"Día del año\")\n",
    "ax.legend([\"2012\", \"2013\", \"2014\"])\n",
    "plt.savefig('../reports/figures/01-line-ventas_anuales.svg')"
   ]
  },
  {
   "cell_type": "markdown",
   "metadata": {},
   "source": [
    "____\n",
    "### Preprocesamiento columnas\n",
    "En los siguientes apartados se revisarán los valores de las columnas del dataset para comprobar valores faltantes, errores, balanceo de datos, etc.\n",
    "#### Analisis de id_pos\n"
   ]
  },
  {
   "cell_type": "code",
   "execution_count": 10,
   "metadata": {},
   "outputs": [
    {
     "data": {
      "text/plain": [
       "'Existen 12302 puntos de ventas en este archivo'"
      ]
     },
     "execution_count": 10,
     "metadata": {},
     "output_type": "execute_result"
    }
   ],
   "source": [
    "\"Existen {} puntos de ventas en este archivo\".format(len(df_ventas.id_pos.unique()))"
   ]
  },
  {
   "cell_type": "markdown",
   "metadata": {},
   "source": [
    "Tendríamos que verificar si son todos las ventas correctas, o existen ventas que no deberían estar. Para ello verificamos en el archivo ejemploRespuesta.csv; revisamos si todas nuestras ventas tienen asociado un id_pos correcto: "
   ]
  },
  {
   "cell_type": "code",
   "execution_count": 11,
   "metadata": {},
   "outputs": [],
   "source": [
    "# recuperamos los id_pos del archivo de respuesta\n",
    "df_ej_resp = pd.read_csv('../data/raw/ejemploRespuesta.csv', names=[\"id_pos\", \"unidades\"])\n",
    "\n",
    "#Buscamos los id_pos que se encuentren solamente en uno de los dos archivos\n",
    "outer = (\n",
    "    df_ej_resp\n",
    "    .merge(pd.DataFrame(df_ventas.id_pos.unique(), columns=[\"id_pos\"]), on=[\"id_pos\"], indicator=True, how='outer')\n",
    "    [lambda df: df._merge != 'both']\n",
    ")[[\"id_pos\", \"_merge\"]]\n"
   ]
  },
  {
   "cell_type": "code",
   "execution_count": 12,
   "metadata": {},
   "outputs": [
    {
     "data": {
      "text/plain": [
       "left_only     1044\n",
       "right_only     449\n",
       "Name: value, dtype: int64"
      ]
     },
     "execution_count": 12,
     "metadata": {},
     "output_type": "execute_result"
    }
   ],
   "source": [
    "outer.melt(value_vars=\"_merge\").value.value_counts()"
   ]
  },
  {
   "cell_type": "markdown",
   "metadata": {},
   "source": [
    "*Nota: left corresponde a lo id_pos que solo se encuentran en el archivo de respuesta ejemplo, y right corresponden a los que solo se encuentran en el archivo de ventas*"
   ]
  },
  {
   "cell_type": "code",
   "execution_count": 13,
   "metadata": {},
   "outputs": [
    {
     "data": {
      "text/plain": [
       "fecha       9523\n",
       "id_pos      9523\n",
       "unidades    9523\n",
       "canal       9523\n",
       "dtype: int64"
      ]
     },
     "execution_count": 13,
     "metadata": {},
     "output_type": "execute_result"
    }
   ],
   "source": [
    "df_ventas[lambda df: ~df.id_pos.isin(df_ej_resp.id_pos)].count(0)"
   ]
  },
  {
   "cell_type": "markdown",
   "metadata": {},
   "source": [
    "*cantidad de ventas en las que no es un id_pos posible*"
   ]
  },
  {
   "cell_type": "markdown",
   "metadata": {},
   "source": [
    "Como podemos observar existen 9523 ventas que no corresponden a id_pos posibles de respuesta (los cuales son 449 id erroneos), y también existen 1044 puntos de venta que no tienen ninguna venta del producto estrella. \n",
    "\n",
    "El análisis con el archivo pos.csv se realiza en la siguiente notebook, hay que tener en cuenta que pos.csv no es un archivo formateado y pueden haber datos sucios; como estamos realizando una limpieza por archivo es preferible retrasar un poco el mencionado análisis.\n",
    "\n",
    "Verificamos si alguno de los puntos de ventas que no poseen ventas, se les ha enviado alguna cantidad del producto: "
   ]
  },
  {
   "cell_type": "code",
   "execution_count": 14,
   "metadata": {},
   "outputs": [
    {
     "data": {
      "text/html": [
       "<div>\n",
       "<style scoped>\n",
       "    .dataframe tbody tr th:only-of-type {\n",
       "        vertical-align: middle;\n",
       "    }\n",
       "\n",
       "    .dataframe tbody tr th {\n",
       "        vertical-align: top;\n",
       "    }\n",
       "\n",
       "    .dataframe thead th {\n",
       "        text-align: right;\n",
       "    }\n",
       "</style>\n",
       "<table border=\"1\" class=\"dataframe\">\n",
       "  <thead>\n",
       "    <tr style=\"text-align: right;\">\n",
       "      <th></th>\n",
       "      <th>cantidad_envios</th>\n",
       "      <th>unidades_despachadas</th>\n",
       "    </tr>\n",
       "    <tr>\n",
       "      <th>id_pos</th>\n",
       "      <th></th>\n",
       "      <th></th>\n",
       "    </tr>\n",
       "  </thead>\n",
       "  <tbody>\n",
       "    <tr>\n",
       "      <th>18298</th>\n",
       "      <td>1</td>\n",
       "      <td>12</td>\n",
       "    </tr>\n",
       "    <tr>\n",
       "      <th>8486</th>\n",
       "      <td>2</td>\n",
       "      <td>276</td>\n",
       "    </tr>\n",
       "    <tr>\n",
       "      <th>17608</th>\n",
       "      <td>1</td>\n",
       "      <td>12</td>\n",
       "    </tr>\n",
       "    <tr>\n",
       "      <th>42327</th>\n",
       "      <td>1</td>\n",
       "      <td>24</td>\n",
       "    </tr>\n",
       "    <tr>\n",
       "      <th>16192</th>\n",
       "      <td>1</td>\n",
       "      <td>12</td>\n",
       "    </tr>\n",
       "    <tr>\n",
       "      <th>32889</th>\n",
       "      <td>1</td>\n",
       "      <td>180</td>\n",
       "    </tr>\n",
       "    <tr>\n",
       "      <th>18475</th>\n",
       "      <td>1</td>\n",
       "      <td>12</td>\n",
       "    </tr>\n",
       "    <tr>\n",
       "      <th>15494</th>\n",
       "      <td>2</td>\n",
       "      <td>24</td>\n",
       "    </tr>\n",
       "    <tr>\n",
       "      <th>18491</th>\n",
       "      <td>1</td>\n",
       "      <td>24</td>\n",
       "    </tr>\n",
       "    <tr>\n",
       "      <th>41602</th>\n",
       "      <td>1</td>\n",
       "      <td>24</td>\n",
       "    </tr>\n",
       "  </tbody>\n",
       "</table>\n",
       "</div>"
      ],
      "text/plain": [
       "        cantidad_envios  unidades_despachadas\n",
       "id_pos                                       \n",
       "18298                 1                    12\n",
       "8486                  2                   276\n",
       "17608                 1                    12\n",
       "42327                 1                    24\n",
       "16192                 1                    12\n",
       "32889                 1                   180\n",
       "18475                 1                    12\n",
       "15494                 2                    24\n",
       "18491                 1                    24\n",
       "41602                 1                    24"
      ]
     },
     "execution_count": 14,
     "metadata": {},
     "output_type": "execute_result"
    }
   ],
   "source": [
    "df_envios = pd.read_csv('../data/raw/envios.txt', delimiter=\"|\")\n",
    "\n",
    "(\n",
    "    df_envios\n",
    "    .merge(outer[lambda df: df._merge=='left_only'][[\"id_pos\"]], on=\"id_pos\")\n",
    "    .groupby('id_pos')\n",
    "    .agg({\"cantidad_envios\":\"sum\", \"unidades_despachadas\":\"sum\"})\n",
    ").sample(10)"
   ]
  },
  {
   "cell_type": "markdown",
   "metadata": {},
   "source": [
    "Verificamos 28020 unidades del producto perdidas en los puntos de ventas que no hay realizado ninguna."
   ]
  },
  {
   "cell_type": "code",
   "execution_count": 15,
   "metadata": {},
   "outputs": [
    {
     "data": {
      "text/plain": [
       "cantidad_envios          1058\n",
       "unidades_despachadas    28020\n",
       "dtype: int64"
      ]
     },
     "execution_count": 15,
     "metadata": {},
     "output_type": "execute_result"
    }
   ],
   "source": [
    "(\n",
    "    df_envios\n",
    "    .merge(outer[lambda df: df._merge=='left_only'][[\"id_pos\"]], on=\"id_pos\")\n",
    "    .agg({\"cantidad_envios\":\"sum\", \"unidades_despachadas\":\"sum\"})\n",
    ")"
   ]
  },
  {
   "cell_type": "markdown",
   "metadata": {},
   "source": [
    "Como resolución de este apartado, descartamos las ventas que no corresponden a ningún punto de venta en el archivo de respuesta."
   ]
  },
  {
   "cell_type": "code",
   "execution_count": 16,
   "metadata": {},
   "outputs": [
    {
     "data": {
      "text/plain": [
       "(256913, 266436, 'se redujo en 9523')"
      ]
     },
     "execution_count": 16,
     "metadata": {},
     "output_type": "execute_result"
    }
   ],
   "source": [
    "df_ventas[lambda df: df.id_pos.isin(df_ej_resp.id_pos)].to_parquet('../data/interim/01-ventas_pos_erroneos.parquet')\n",
    "df_ventas = df_ventas[lambda df: df.id_pos.isin(df_ej_resp.id_pos)]\n",
    "df_ventas.id_pos.count(), 266436 , \"se redujo en {}\".format(266436-df_ventas.id_pos.count())"
   ]
  },
  {
   "cell_type": "markdown",
   "metadata": {},
   "source": [
    "#### Análisis **canales**\n",
    "Como podemos observar en la tabla anterior tenemos 4 tipos de canales, los cuales son: MAXIKIOSKO, ALMACEN, SUPERMERCADOS Y PARTICULARES"
   ]
  },
  {
   "cell_type": "code",
   "execution_count": 17,
   "metadata": {},
   "outputs": [
    {
     "data": {
      "text/plain": [
       "['MAXIKIOSCO', 'ALMACEN', 'SUPERMERCADOS', 'PARTICULARES']"
      ]
     },
     "execution_count": 17,
     "metadata": {},
     "output_type": "execute_result"
    }
   ],
   "source": [
    "list(df_ventas.canal.unique())"
   ]
  },
  {
   "cell_type": "code",
   "execution_count": 18,
   "metadata": {},
   "outputs": [
    {
     "data": {
      "text/plain": [
       "79"
      ]
     },
     "execution_count": 18,
     "metadata": {},
     "output_type": "execute_result"
    }
   ],
   "source": [
    "df_ventas.groupby('id_pos').apply(lambda df: len(list(df.canal.unique())))[lambda df: df > 1].count()"
   ]
  },
  {
   "cell_type": "markdown",
   "metadata": {},
   "source": [
    "Existen 79 Puntos de venta que tienen más de 1 canal de venta."
   ]
  },
  {
   "cell_type": "markdown",
   "metadata": {},
   "source": [
    "Podríamos ver la frecuencia de cada uno, y cuantos valores hay faltantes:"
   ]
  },
  {
   "cell_type": "code",
   "execution_count": 19,
   "metadata": {},
   "outputs": [
    {
     "data": {
      "image/png": "[encoded data removed]",
      "text/plain": [
       "<Figure size 432x288 with 1 Axes>"
      ]
     },
     "metadata": {
      "needs_background": "light"
     },
     "output_type": "display_data"
    }
   ],
   "source": [
    "# imprimimos un gráfico de barras\n",
    "ax = df_ventas.canal.fillna(\"FALTANTE\").value_counts().plot.barh()\n",
    "#imprimimos los labels númericos\n",
    "[ax.text(v, i, '{:.2f}'.format(v)) for i, v in enumerate(df_ventas.canal.value_counts())];\n",
    "plt.savefig('../reports/figures/01-barplot-canales.png')"
   ]
  },
  {
   "cell_type": "markdown",
   "metadata": {},
   "source": [
    "Como se puede observar, la mayoría de nuestras muestras son del tipo \"ALMACEN\" (tenemos una alta cardinalidad en el atributo canal para la categoría almacen), y no posee valores faltantes. Intentamos completar los valores faltantes con el operador \"fillna\" pero no completó ningún elemento.  Podríamos agrupar todas las demás categorías en una sola con el valor \"OTROS\", aunque no sería de mucho interés lo hacemos solo para obtener algo un poco más ordenado."
   ]
  },
  {
   "cell_type": "code",
   "execution_count": 20,
   "metadata": {},
   "outputs": [
    {
     "data": {
      "text/plain": [
       "[Text(255735, 0, '255735.00'), Text(1178, 1, '1178.00')]"
      ]
     },
     "execution_count": 20,
     "metadata": {},
     "output_type": "execute_result"
    },
    {
     "data": {
      "image/png": "[encoded data removed]",
      "text/plain": [
       "<Figure size 432x288 with 1 Axes>"
      ]
     },
     "metadata": {
      "needs_background": "light"
     },
     "output_type": "display_data"
    }
   ],
   "source": [
    "from src.features.build_features import group_canal\n",
    "\n",
    "group_canal(df_ventas)\n",
    "ax = df_ventas.canal.fillna(\"FALTANTE\").value_counts().plot.barh()\n",
    "[ax.text(v, i, '{:.2f}'.format(v)) for i, v in enumerate(df_ventas.canal.value_counts())]"
   ]
  },
  {
   "cell_type": "markdown",
   "metadata": {},
   "source": [
    "La cantidad de ejemplos de \"OTROS\" representa el 0.5%, por ende la mayoría de las muestras caeran en \"ALMACEN\". \n",
    "\n",
    "Decidimos remover la columna canal por el momento, ya que la misma no es representativa de los datos."
   ]
  },
  {
   "cell_type": "code",
   "execution_count": 21,
   "metadata": {},
   "outputs": [],
   "source": [
    "df_ventas = df_ventas.drop(\"canal\", axis=1, errors='ignore')"
   ]
  },
  {
   "cell_type": "markdown",
   "metadata": {},
   "source": [
    "____\n",
    "#### Análisis de **unidades**"
   ]
  },
  {
   "cell_type": "markdown",
   "metadata": {},
   "source": [
    "Verificamos los valores de **unidades** para descubrir faltantes o errores, realizamos con un diagrama de cajas para verificar si existen valores fuera de rango. "
   ]
  },
  {
   "cell_type": "code",
   "execution_count": 22,
   "metadata": {},
   "outputs": [
    {
     "data": {
      "image/png": "[encoded data removed]",
      "text/plain": [
       "<Figure size 864x576 with 1 Axes>"
      ]
     },
     "metadata": {
      "needs_background": "light"
     },
     "output_type": "display_data"
    }
   ],
   "source": [
    "ax = df_ventas.unidades.plot.box(figsize=(12,8))\n",
    "plt.savefig(\"../reports/figures/01-boxplot-unidades.png\")"
   ]
  },
  {
   "cell_type": "markdown",
   "metadata": {},
   "source": [
    "En el gráfico anterior, podemos ver varios valores atípicos (outliers). No deberíamos quitar los valores atípicos positivos ya que puede ser que dependiendo donde se encuentre el punto de venta, podrían ocurrir dichas ventas con valores de unidades altos, por ejemplo en una zona céntrica.\n",
    "\n",
    "Tendríamos que verificar que son los valores negativos de unidades. Observamos 109 muestras que poseen valores negativos, se visualizan los primeros 10 ordenados por unidades"
   ]
  },
  {
   "cell_type": "code",
   "execution_count": 23,
   "metadata": {},
   "outputs": [],
   "source": [
    "# vamos a guardar las ventas que tienen valores de unidades negativas\n",
    "df_ventas_negativas = (\n",
    "    df_ventas[lambda df: df.unidades <= 0]\n",
    "    .sort_values(['unidades',\"id_pos\"], ascending=True)\n",
    ")"
   ]
  },
  {
   "cell_type": "code",
   "execution_count": 24,
   "metadata": {},
   "outputs": [
    {
     "name": "stdout",
     "output_type": "stream",
     "text": [
      "(filas, columnas):  (109, 3)\n"
     ]
    },
    {
     "data": {
      "text/plain": [
       "fecha       256913\n",
       "id_pos      256913\n",
       "unidades    256913\n",
       "dtype: int64"
      ]
     },
     "execution_count": 24,
     "metadata": {},
     "output_type": "execute_result"
    }
   ],
   "source": [
    "print(\"(filas, columnas): \",df_ventas_negativas.shape)\n",
    "df_ventas_negativas.head(10)\n",
    "df_ventas.count()"
   ]
  },
  {
   "cell_type": "markdown",
   "metadata": {},
   "source": [
    "¿Estas unidades corresponderán a devoluciones?, ¿serán errores de tipeo?\n",
    "Según cuál caso ocurriese, se podría recurrir a alguna de estas soluciones: \n",
    "\n",
    "- si fueran devoluciones \n",
    "    tendría que existir una compra en días anteriores de la misma cantidad\n",
    "- si fueran errores de tipeo, \n",
    "    tendríamos que cambiar el signo de dichas muestras\n",
    "- si fueran otro tipo de error,\n",
    "    deberíamos descartar esa muestra \n",
    "   \n",
    "Como en realidad lo que queremos predecir son las ventas, no nos interesa si existen devoluciones; en el supuesto caso que fueran errores de tipeo no tendríamos forma de comprobarlo. \n",
    "La opción de descartar dichos elementos de la muestra no es tan descabellada: tenemos 256913 de las cuales 109 son las que tienen valores negativos en unidades. Estas 109 muestras representan el 0.05% de las muestras.\n",
    "\n",
    "Se agrega una notebook donde se intenta verificar cuál es la cantidad de de estos 109 elementos que podrían ser devoluciones correctas. [Analisis alternativo](./otros/analizando-devoluciones.ipynb)\n",
    "\n",
    "Procedemos a eliminar las ventas donde unidades posee valores negativos:"
   ]
  },
  {
   "cell_type": "code",
   "execution_count": 25,
   "metadata": {},
   "outputs": [
    {
     "name": "stdout",
     "output_type": "stream",
     "text": [
      "(256804, 3)\n"
     ]
    }
   ],
   "source": [
    "df_ventas = df_ventas.drop(df_ventas.loc[lambda df: df.unidades <=0].index)\n",
    "print(df_ventas.shape)"
   ]
  },
  {
   "cell_type": "markdown",
   "metadata": {},
   "source": [
    "Volvemos a graficar el diagrama de caja para comprobar que dichos valores fueron removidos:"
   ]
  },
  {
   "cell_type": "code",
   "execution_count": 26,
   "metadata": {},
   "outputs": [
    {
     "data": {
      "text/plain": [
       "<matplotlib.axes._subplots.AxesSubplot at 0x7fb8802ce860>"
      ]
     },
     "execution_count": 26,
     "metadata": {},
     "output_type": "execute_result"
    },
    {
     "data": {
      "image/png": "[encoded data removed]",
      "text/plain": [
       "<Figure size 864x576 with 1 Axes>"
      ]
     },
     "metadata": {
      "needs_background": "light"
     },
     "output_type": "display_data"
    }
   ],
   "source": [
    "df_ventas.unidades.plot.box(figsize=(12,8))"
   ]
  },
  {
   "cell_type": "markdown",
   "metadata": {},
   "source": [
    "Observamos que nuestras muestras se agrupan en su mayoría con valores pequeños, entre 1 y 10, por fechas de ventas. Es decir en la mayoría de los POS, por día, venden pocas unidades del producto."
   ]
  },
  {
   "cell_type": "code",
   "execution_count": 27,
   "metadata": {},
   "outputs": [
    {
     "data": {
      "text/plain": [
       "<matplotlib.axes._subplots.AxesSubplot at 0x7fb87fd6cc18>"
      ]
     },
     "execution_count": 27,
     "metadata": {},
     "output_type": "execute_result"
    },
    {
     "data": {
      "image/png": "[encoded data removed]",
      "text/plain": [
       "<Figure size 720x432 with 1 Axes>"
      ]
     },
     "metadata": {
      "needs_background": "light"
     },
     "output_type": "display_data"
    }
   ],
   "source": [
    "df_ventas.set_index('fecha').unidades.plot.hist(figsize=(10,6))"
   ]
  },
  {
   "cell_type": "markdown",
   "metadata": {},
   "source": [
    "____"
   ]
  },
  {
   "cell_type": "markdown",
   "metadata": {},
   "source": [
    "### Agregando Features\n",
    "Podemos totabilizar las ventas por id_pos"
   ]
  },
  {
   "cell_type": "code",
   "execution_count": 28,
   "metadata": {},
   "outputs": [
    {
     "data": {
      "text/html": [
       "<div>\n",
       "<style scoped>\n",
       "    .dataframe tbody tr th:only-of-type {\n",
       "        vertical-align: middle;\n",
       "    }\n",
       "\n",
       "    .dataframe tbody tr th {\n",
       "        vertical-align: top;\n",
       "    }\n",
       "\n",
       "    .dataframe thead th {\n",
       "        text-align: right;\n",
       "    }\n",
       "</style>\n",
       "<table border=\"1\" class=\"dataframe\">\n",
       "  <thead>\n",
       "    <tr style=\"text-align: right;\">\n",
       "      <th></th>\n",
       "      <th>cantidad_ventas</th>\n",
       "      <th>unidades_suma</th>\n",
       "      <th>unidades_media</th>\n",
       "      <th>unidades_desviacion</th>\n",
       "    </tr>\n",
       "    <tr>\n",
       "      <th>id_pos</th>\n",
       "      <th></th>\n",
       "      <th></th>\n",
       "      <th></th>\n",
       "      <th></th>\n",
       "    </tr>\n",
       "  </thead>\n",
       "  <tbody>\n",
       "    <tr>\n",
       "      <th>4369</th>\n",
       "      <td>98</td>\n",
       "      <td>296</td>\n",
       "      <td>3.020408</td>\n",
       "      <td>2.580576</td>\n",
       "    </tr>\n",
       "    <tr>\n",
       "      <th>3683</th>\n",
       "      <td>95</td>\n",
       "      <td>304</td>\n",
       "      <td>3.200000</td>\n",
       "      <td>3.086001</td>\n",
       "    </tr>\n",
       "    <tr>\n",
       "      <th>4695</th>\n",
       "      <td>93</td>\n",
       "      <td>317</td>\n",
       "      <td>3.408602</td>\n",
       "      <td>3.710258</td>\n",
       "    </tr>\n",
       "    <tr>\n",
       "      <th>4761</th>\n",
       "      <td>91</td>\n",
       "      <td>472</td>\n",
       "      <td>5.186813</td>\n",
       "      <td>5.324810</td>\n",
       "    </tr>\n",
       "    <tr>\n",
       "      <th>4619</th>\n",
       "      <td>91</td>\n",
       "      <td>318</td>\n",
       "      <td>3.494505</td>\n",
       "      <td>3.484485</td>\n",
       "    </tr>\n",
       "  </tbody>\n",
       "</table>\n",
       "</div>"
      ],
      "text/plain": [
       "        cantidad_ventas  unidades_suma  unidades_media  unidades_desviacion\n",
       "id_pos                                                                     \n",
       "4369                 98            296        3.020408             2.580576\n",
       "3683                 95            304        3.200000             3.086001\n",
       "4695                 93            317        3.408602             3.710258\n",
       "4761                 91            472        5.186813             5.324810\n",
       "4619                 91            318        3.494505             3.484485"
      ]
     },
     "execution_count": 28,
     "metadata": {},
     "output_type": "execute_result"
    }
   ],
   "source": [
    "# agrupamos por id_pos y calculamos métricas\n",
    "grouped_by_ventas = (\n",
    "    df_ventas.groupby(\"id_pos\")\n",
    "    .agg({\"id_pos\":[\"count\"], \"unidades\":[\"sum\", \"mean\", \"std\"]})\n",
    ")\n",
    "\n",
    "# cambiamos el nombre de las columnas\n",
    "grouped_by_ventas.columns = [\n",
    "    \"cantidad_ventas\", \n",
    "    \"unidades_suma\",\n",
    "    \"unidades_media\", \n",
    "    \"unidades_desviacion\"\n",
    "]\n",
    "\n",
    "# ordenamos los valores por cantidad de ventas acumuladas y retornamos 15\n",
    "grouped_by_ventas.sort_values(\"cantidad_ventas\", ascending=False).head(5)"
   ]
  },
  {
   "cell_type": "code",
   "execution_count": 29,
   "metadata": {},
   "outputs": [
    {
     "data": {
      "text/html": [
       "<div>\n",
       "<style scoped>\n",
       "    .dataframe tbody tr th:only-of-type {\n",
       "        vertical-align: middle;\n",
       "    }\n",
       "\n",
       "    .dataframe tbody tr th {\n",
       "        vertical-align: top;\n",
       "    }\n",
       "\n",
       "    .dataframe thead th {\n",
       "        text-align: right;\n",
       "    }\n",
       "</style>\n",
       "<table border=\"1\" class=\"dataframe\">\n",
       "  <thead>\n",
       "    <tr style=\"text-align: right;\">\n",
       "      <th></th>\n",
       "      <th>cantidad_ventas</th>\n",
       "      <th>unidades_suma</th>\n",
       "      <th>unidades_media</th>\n",
       "      <th>unidades_desviacion</th>\n",
       "    </tr>\n",
       "    <tr>\n",
       "      <th>id_pos</th>\n",
       "      <th></th>\n",
       "      <th></th>\n",
       "      <th></th>\n",
       "      <th></th>\n",
       "    </tr>\n",
       "  </thead>\n",
       "  <tbody>\n",
       "    <tr>\n",
       "      <th>17319</th>\n",
       "      <td>1</td>\n",
       "      <td>1</td>\n",
       "      <td>1.0</td>\n",
       "      <td>NaN</td>\n",
       "    </tr>\n",
       "    <tr>\n",
       "      <th>17318</th>\n",
       "      <td>1</td>\n",
       "      <td>2</td>\n",
       "      <td>2.0</td>\n",
       "      <td>NaN</td>\n",
       "    </tr>\n",
       "    <tr>\n",
       "      <th>17315</th>\n",
       "      <td>1</td>\n",
       "      <td>2</td>\n",
       "      <td>2.0</td>\n",
       "      <td>NaN</td>\n",
       "    </tr>\n",
       "    <tr>\n",
       "      <th>17313</th>\n",
       "      <td>1</td>\n",
       "      <td>8</td>\n",
       "      <td>8.0</td>\n",
       "      <td>NaN</td>\n",
       "    </tr>\n",
       "    <tr>\n",
       "      <th>10865</th>\n",
       "      <td>1</td>\n",
       "      <td>1</td>\n",
       "      <td>1.0</td>\n",
       "      <td>NaN</td>\n",
       "    </tr>\n",
       "  </tbody>\n",
       "</table>\n",
       "</div>"
      ],
      "text/plain": [
       "        cantidad_ventas  unidades_suma  unidades_media  unidades_desviacion\n",
       "id_pos                                                                     \n",
       "17319                 1              1             1.0                  NaN\n",
       "17318                 1              2             2.0                  NaN\n",
       "17315                 1              2             2.0                  NaN\n",
       "17313                 1              8             8.0                  NaN\n",
       "10865                 1              1             1.0                  NaN"
      ]
     },
     "execution_count": 29,
     "metadata": {},
     "output_type": "execute_result"
    }
   ],
   "source": [
    "# Obtenemos las últimas 5\n",
    "grouped_by_ventas.sort_values(\"cantidad_ventas\", ascending=False).tail(5)"
   ]
  },
  {
   "cell_type": "markdown",
   "metadata": {},
   "source": [
    "*Nota: la desviación da NaN, porque es la única muestra.*\n",
    "\n",
    "Con un histograma podemos conocer la frecuencia de los valores de cantidad_ventas. Con ellos podemos observar que los valores entre 49.5 en adelante se encuentran en menor proporción. Los datos nos están diciendo que los puntos de ventas tienen **poca cantidad de ventas individualmente** en su mayoría."
   ]
  },
  {
   "cell_type": "code",
   "execution_count": 30,
   "metadata": {},
   "outputs": [
    {
     "data": {
      "image/png": "[encoded data removed]",
      "text/plain": [
       "<Figure size 720x432 with 1 Axes>"
      ]
     },
     "metadata": {
      "needs_background": "light"
     },
     "output_type": "display_data"
    }
   ],
   "source": [
    "df_ventas_por_pos = grouped_by_ventas[[\"cantidad_ventas\"]]\n",
    "df_ventas_por_pos.columns = [\"ventas\"]\n",
    "ax = df_ventas_por_pos.ventas.hist(bins=10, edgecolor=\"k\",figsize=(10,6))\n",
    "plt.savefig('../reports/figures/01-hist-cantidad_ventas.png')"
   ]
  },
  {
   "cell_type": "markdown",
   "metadata": {},
   "source": [
    "Podríamos generar una nueva característica según la cantidad de ventas. Esto se agrega luego en el analisis de puntos de venta."
   ]
  },
  {
   "cell_type": "markdown",
   "metadata": {},
   "source": [
    "#### Fechas\n",
    "Podríamos generar nuevas características derivadas del atributo fecha, las cuales pueden ser: \n",
    "- dayofyear: corresponde al día del año (1-365)\n",
    "- weekofyear: corresponde a la semana del año (1-52)\n",
    "- dayofweek: corresponde al día de la semana ( 0 [lunes] - 6 [domingo] )\n",
    "- ..."
   ]
  },
  {
   "cell_type": "markdown",
   "metadata": {},
   "source": [
    "En realidad, como las predicciones las tenemos que realizar por mes, hay ciertos atributos de las fechas que no son de interés, quizás si quisieramos modelar las ventas diarias, si lo serían. \n",
    "\n",
    "Por ende, solo vamos a quedarnos con el mes y el año. Luego, agruparemos por id_pos, mes y año la cantidad de productos vendidos. Es decir por punto de ventas vamos a tener 3 años, lo que corresponde a 35 muestras por cada punto de venta.\n",
    "Vamos a generar los datos que no existan (con valores de unidad 0) estos nos va a permitir tener la serie de tiempo completa desde el inicio (enero-2012) hasta el fin (noviembre-2014).\n"
   ]
  },
  {
   "cell_type": "code",
   "execution_count": 31,
   "metadata": {},
   "outputs": [],
   "source": [
    "dateindex = pd.date_range('31/01/2012', periods=35, freq='M')"
   ]
  },
  {
   "cell_type": "code",
   "execution_count": 32,
   "metadata": {},
   "outputs": [],
   "source": [
    "df_ventas = (\n",
    "    df_ventas\n",
    "    .set_index('fecha')\n",
    "    [['id_pos', 'unidades']]\n",
    "    .groupby('id_pos')\n",
    "    .resample('M')\n",
    "    .agg({\"unidades\":[\"sum\", \"count\"]})\n",
    ")"
   ]
  },
  {
   "cell_type": "code",
   "execution_count": 33,
   "metadata": {},
   "outputs": [
    {
     "data": {
      "text/plain": [
       "(159573, 2)"
      ]
     },
     "execution_count": 33,
     "metadata": {},
     "output_type": "execute_result"
    }
   ],
   "source": [
    "df_ventas.shape"
   ]
  },
  {
   "cell_type": "code",
   "execution_count": 34,
   "metadata": {},
   "outputs": [],
   "source": [
    "df_ventas = (\n",
    "    df_ventas\n",
    "    .reindex(pd.MultiIndex.from_product([df_ventas.index.levels[0], dateindex]), fill_value=0)\n",
    ").reset_index()"
   ]
  },
  {
   "cell_type": "code",
   "execution_count": 35,
   "metadata": {},
   "outputs": [
    {
     "data": {
      "text/plain": [
       "(414855, 4)"
      ]
     },
     "execution_count": 35,
     "metadata": {},
     "output_type": "execute_result"
    }
   ],
   "source": [
    "df_ventas.shape"
   ]
  },
  {
   "cell_type": "code",
   "execution_count": 36,
   "metadata": {},
   "outputs": [],
   "source": [
    "df_ventas.columns = [\"id_pos\",\"fecha\",\"unidades\",\"cantidad_ventas\"]"
   ]
  },
  {
   "cell_type": "code",
   "execution_count": 37,
   "metadata": {},
   "outputs": [
    {
     "data": {
      "text/html": [
       "<div>\n",
       "<style scoped>\n",
       "    .dataframe tbody tr th:only-of-type {\n",
       "        vertical-align: middle;\n",
       "    }\n",
       "\n",
       "    .dataframe tbody tr th {\n",
       "        vertical-align: top;\n",
       "    }\n",
       "\n",
       "    .dataframe thead th {\n",
       "        text-align: right;\n",
       "    }\n",
       "</style>\n",
       "<table border=\"1\" class=\"dataframe\">\n",
       "  <thead>\n",
       "    <tr style=\"text-align: right;\">\n",
       "      <th></th>\n",
       "      <th>id_pos</th>\n",
       "      <th>unidades</th>\n",
       "      <th>cantidad_ventas</th>\n",
       "      <th>year</th>\n",
       "      <th>month</th>\n",
       "    </tr>\n",
       "  </thead>\n",
       "  <tbody>\n",
       "    <tr>\n",
       "      <th>0</th>\n",
       "      <td>3142</td>\n",
       "      <td>0</td>\n",
       "      <td>0</td>\n",
       "      <td>2012</td>\n",
       "      <td>1</td>\n",
       "    </tr>\n",
       "    <tr>\n",
       "      <th>1</th>\n",
       "      <td>3142</td>\n",
       "      <td>0</td>\n",
       "      <td>0</td>\n",
       "      <td>2012</td>\n",
       "      <td>2</td>\n",
       "    </tr>\n",
       "    <tr>\n",
       "      <th>2</th>\n",
       "      <td>3142</td>\n",
       "      <td>0</td>\n",
       "      <td>0</td>\n",
       "      <td>2012</td>\n",
       "      <td>3</td>\n",
       "    </tr>\n",
       "    <tr>\n",
       "      <th>3</th>\n",
       "      <td>3142</td>\n",
       "      <td>0</td>\n",
       "      <td>0</td>\n",
       "      <td>2012</td>\n",
       "      <td>4</td>\n",
       "    </tr>\n",
       "    <tr>\n",
       "      <th>4</th>\n",
       "      <td>3142</td>\n",
       "      <td>0</td>\n",
       "      <td>0</td>\n",
       "      <td>2012</td>\n",
       "      <td>5</td>\n",
       "    </tr>\n",
       "  </tbody>\n",
       "</table>\n",
       "</div>"
      ],
      "text/plain": [
       "   id_pos  unidades  cantidad_ventas  year  month\n",
       "0    3142         0                0  2012      1\n",
       "1    3142         0                0  2012      2\n",
       "2    3142         0                0  2012      3\n",
       "3    3142         0                0  2012      4\n",
       "4    3142         0                0  2012      5"
      ]
     },
     "execution_count": 37,
     "metadata": {},
     "output_type": "execute_result"
    }
   ],
   "source": [
    "from src.features.build_features import add_date_features\n",
    "add_date_features(df_ventas, \"fecha\").head()"
   ]
  },
  {
   "cell_type": "code",
   "execution_count": 38,
   "metadata": {},
   "outputs": [
    {
     "data": {
      "text/plain": [
       "((414855, 7), (11853,))"
      ]
     },
     "execution_count": 38,
     "metadata": {},
     "output_type": "execute_result"
    }
   ],
   "source": [
    "df_ventas.shape, df_ventas.id_pos.unique().shape"
   ]
  },
  {
   "cell_type": "markdown",
   "metadata": {},
   "source": [
    "Procedemos a guardar el archivo para su utilización"
   ]
  },
  {
   "cell_type": "code",
   "execution_count": 39,
   "metadata": {},
   "outputs": [],
   "source": [
    "df_ventas.to_parquet('../data/interim/01-ventas.parquet')"
   ]
  },
  {
   "cell_type": "markdown",
   "metadata": {},
   "source": [
    "## Conclusión del apartado\n",
    "\n",
    "- Generamos atributos derivados de fechas\n",
    "- Removimos las ventas que tenían unidades negativas\n",
    "- Detectamos muchos valores outliers superiores, pero que los no quitamos dada la naturaleza del problema.\n",
    "- Recordar que tenemos por cada punto de venta que almenos tiene una venta, el conjunto de los 35 meses correspondientes de 2012 a 2014. \n",
    "- Los puntos de venta que no tienen ventas, no se encuentran en el archivo intermedio.\n",
    "\n",
    "Procedemos a guardar nuestro dataset modificado. Los archivos parquet es un formato de datos columnar, que se utiliza en el almacenamiento de grandes volúmenes. Podríamos guardar un csv, pero el archivo parquet ocupa menos espacio en disco."
   ]
  },
  {
   "cell_type": "markdown",
   "metadata": {},
   "source": [
    "Siguiente: [02-analisis-exploratorio-pos](./02-analisis-exploratorio-pos.ipynb)\n",
    "\n",
    "Siguientex2: [Tratamiento-Predicción-Time-Series](./Tratamiento_TS.ipynb)"
   ]
  },
  {
   "cell_type": "markdown",
   "metadata": {},
   "source": [
    "_______\n",
    "\n",
    "## ANEXO: Análisis Descriptivo\n",
    "Como una manera de realizar una predicción de producción, se realiza la predicción de ventas en general para el mes de diciembre. Esta resolución podría ser tomada como una solución gerencial; en cambio, en una solución por POS, podría ser tomada como una predicción de distribución donde los interesados sean los POS. "
   ]
  },
  {
   "cell_type": "markdown",
   "metadata": {},
   "source": [
    "### ¿Cuál establecimiento vendió más productos en cantidad de unidades?\n",
    "El establecimiento que más productos vendió fue el id_pos: 4761 con 472 unidades"
   ]
  },
  {
   "cell_type": "code",
   "execution_count": 40,
   "metadata": {},
   "outputs": [
    {
     "data": {
      "text/plain": [
       "cantidad_ventas         91.000000\n",
       "unidades_suma          472.000000\n",
       "unidades_media           5.186813\n",
       "unidades_desviacion      5.324810\n",
       "Name: 4761, dtype: float64"
      ]
     },
     "execution_count": 40,
     "metadata": {},
     "output_type": "execute_result"
    }
   ],
   "source": [
    "grouped_by_ventas.loc[grouped_by_ventas.unidades_suma.idxmax()]"
   ]
  },
  {
   "cell_type": "markdown",
   "metadata": {},
   "source": [
    "### ¿Cuál establecimiento tiene la media mas alta de productos?\n",
    "El establecimiento 6656 es el que tiene la más alta media de unidades vendidas con 12.2 unidades."
   ]
  },
  {
   "cell_type": "code",
   "execution_count": 41,
   "metadata": {},
   "outputs": [
    {
     "data": {
      "text/plain": [
       "cantidad_ventas         10.000000\n",
       "unidades_suma          122.000000\n",
       "unidades_media          12.200000\n",
       "unidades_desviacion      6.338594\n",
       "Name: 6656, dtype: float64"
      ]
     },
     "execution_count": 41,
     "metadata": {},
     "output_type": "execute_result"
    }
   ],
   "source": [
    "grouped_by_ventas.loc[grouped_by_ventas.unidades_media.idxmax()]"
   ]
  },
  {
   "cell_type": "markdown",
   "metadata": {},
   "source": [
    "### ¿Cuál día es el que más productos se vendió? (general)\n",
    "Como podemos observar el pico de ventas del año 2013 se encuentra el día 24 de diciembre, con 36882 unidades de ventas. En el año 2012, el pico de ventas se encuentra el día 22 de diciembre con 17303 ventas. Esto se puede llegar a explicar por el día en el que cae 24 en el año 2012, 22 de diciembre es sábado y 24, lunes. \n",
    "\n",
    "Esta conclusión se obtiene de que, normalmente, la gente no suele hacer compras los domingos dado que los lugares de ventas se encuentran cerrados. No obstante, está conclusión puede quedar anulada si los negocios tienen horario \"de fiestas\". \n"
   ]
  },
  {
   "cell_type": "code",
   "execution_count": 42,
   "metadata": {},
   "outputs": [
    {
     "data": {
      "text/html": [
       "<div>\n",
       "<style scoped>\n",
       "    .dataframe tbody tr th:only-of-type {\n",
       "        vertical-align: middle;\n",
       "    }\n",
       "\n",
       "    .dataframe tbody tr th {\n",
       "        vertical-align: top;\n",
       "    }\n",
       "\n",
       "    .dataframe thead tr th {\n",
       "        text-align: left;\n",
       "    }\n",
       "\n",
       "    .dataframe thead tr:last-of-type th {\n",
       "        text-align: right;\n",
       "    }\n",
       "</style>\n",
       "<table border=\"1\" class=\"dataframe\">\n",
       "  <thead>\n",
       "    <tr>\n",
       "      <th></th>\n",
       "      <th>unidades</th>\n",
       "    </tr>\n",
       "    <tr>\n",
       "      <th></th>\n",
       "      <th>sum</th>\n",
       "    </tr>\n",
       "    <tr>\n",
       "      <th>fecha</th>\n",
       "      <th></th>\n",
       "    </tr>\n",
       "  </thead>\n",
       "  <tbody>\n",
       "    <tr>\n",
       "      <th>2013-12-31</th>\n",
       "      <td>313821</td>\n",
       "    </tr>\n",
       "    <tr>\n",
       "      <th>2012-12-31</th>\n",
       "      <td>202449</td>\n",
       "    </tr>\n",
       "    <tr>\n",
       "      <th>2012-11-30</th>\n",
       "      <td>36840</td>\n",
       "    </tr>\n",
       "    <tr>\n",
       "      <th>2014-11-30</th>\n",
       "      <td>28799</td>\n",
       "    </tr>\n",
       "    <tr>\n",
       "      <th>2013-11-30</th>\n",
       "      <td>28277</td>\n",
       "    </tr>\n",
       "    <tr>\n",
       "      <th>2014-10-31</th>\n",
       "      <td>650</td>\n",
       "    </tr>\n",
       "    <tr>\n",
       "      <th>2013-10-31</th>\n",
       "      <td>460</td>\n",
       "    </tr>\n",
       "    <tr>\n",
       "      <th>2012-10-31</th>\n",
       "      <td>92</td>\n",
       "    </tr>\n",
       "    <tr>\n",
       "      <th>2014-09-30</th>\n",
       "      <td>52</td>\n",
       "    </tr>\n",
       "    <tr>\n",
       "      <th>2013-06-30</th>\n",
       "      <td>35</td>\n",
       "    </tr>\n",
       "  </tbody>\n",
       "</table>\n",
       "</div>"
      ],
      "text/plain": [
       "           unidades\n",
       "                sum\n",
       "fecha              \n",
       "2013-12-31   313821\n",
       "2012-12-31   202449\n",
       "2012-11-30    36840\n",
       "2014-11-30    28799\n",
       "2013-11-30    28277\n",
       "2014-10-31      650\n",
       "2013-10-31      460\n",
       "2012-10-31       92\n",
       "2014-09-30       52\n",
       "2013-06-30       35"
      ]
     },
     "execution_count": 42,
     "metadata": {},
     "output_type": "execute_result"
    }
   ],
   "source": [
    "( \n",
    "    df_ventas.set_index(\"fecha\")\n",
    "    .groupby('fecha')\n",
    "    .agg({\"unidades\":[sum]})\n",
    "    .sort_values((\"unidades\",\"sum\"),ascending=False)\n",
    "    .head(10)\n",
    ")"
   ]
  },
  {
   "cell_type": "markdown",
   "metadata": {},
   "source": [
    "### ¿Cuál es el día y establecimiento en el que se vendieron más productos?\n",
    "Podemos observar que en el top 10, menos 1 producto, todos son de diciembre. La mayoría de los productos son de la semana de fiestas (última semana de diciembre) y hay un solo caso de principio de mes con 48 ventas. \n",
    "Esos casos quizás correspondan a un día en el cual se realizó alguna promoción o descuento, pero no nos encontramos con estos datos para verificar."
   ]
  },
  {
   "cell_type": "code",
   "execution_count": 43,
   "metadata": {},
   "outputs": [
    {
     "data": {
      "text/html": [
       "<div>\n",
       "<style scoped>\n",
       "    .dataframe tbody tr th:only-of-type {\n",
       "        vertical-align: middle;\n",
       "    }\n",
       "\n",
       "    .dataframe tbody tr th {\n",
       "        vertical-align: top;\n",
       "    }\n",
       "\n",
       "    .dataframe thead tr th {\n",
       "        text-align: left;\n",
       "    }\n",
       "\n",
       "    .dataframe thead tr:last-of-type th {\n",
       "        text-align: right;\n",
       "    }\n",
       "</style>\n",
       "<table border=\"1\" class=\"dataframe\">\n",
       "  <thead>\n",
       "    <tr>\n",
       "      <th></th>\n",
       "      <th></th>\n",
       "      <th>unidades</th>\n",
       "    </tr>\n",
       "    <tr>\n",
       "      <th></th>\n",
       "      <th></th>\n",
       "      <th>sum</th>\n",
       "    </tr>\n",
       "    <tr>\n",
       "      <th>id_pos</th>\n",
       "      <th>fecha</th>\n",
       "      <th></th>\n",
       "    </tr>\n",
       "  </thead>\n",
       "  <tbody>\n",
       "    <tr>\n",
       "      <th>6653</th>\n",
       "      <th>2013-12-31</th>\n",
       "      <td>252</td>\n",
       "    </tr>\n",
       "    <tr>\n",
       "      <th>4700</th>\n",
       "      <th>2013-12-31</th>\n",
       "      <td>226</td>\n",
       "    </tr>\n",
       "    <tr>\n",
       "      <th>7609</th>\n",
       "      <th>2013-12-31</th>\n",
       "      <td>214</td>\n",
       "    </tr>\n",
       "    <tr>\n",
       "      <th>8453</th>\n",
       "      <th>2013-12-31</th>\n",
       "      <td>202</td>\n",
       "    </tr>\n",
       "    <tr>\n",
       "      <th>8454</th>\n",
       "      <th>2013-12-31</th>\n",
       "      <td>201</td>\n",
       "    </tr>\n",
       "    <tr>\n",
       "      <th>7967</th>\n",
       "      <th>2013-12-31</th>\n",
       "      <td>198</td>\n",
       "    </tr>\n",
       "    <tr>\n",
       "      <th>5739</th>\n",
       "      <th>2013-12-31</th>\n",
       "      <td>197</td>\n",
       "    </tr>\n",
       "    <tr>\n",
       "      <th>15204</th>\n",
       "      <th>2013-12-31</th>\n",
       "      <td>195</td>\n",
       "    </tr>\n",
       "    <tr>\n",
       "      <th>8553</th>\n",
       "      <th>2013-12-31</th>\n",
       "      <td>188</td>\n",
       "    </tr>\n",
       "    <tr>\n",
       "      <th>8444</th>\n",
       "      <th>2013-12-31</th>\n",
       "      <td>182</td>\n",
       "    </tr>\n",
       "  </tbody>\n",
       "</table>\n",
       "</div>"
      ],
      "text/plain": [
       "                  unidades\n",
       "                       sum\n",
       "id_pos fecha              \n",
       "6653   2013-12-31      252\n",
       "4700   2013-12-31      226\n",
       "7609   2013-12-31      214\n",
       "8453   2013-12-31      202\n",
       "8454   2013-12-31      201\n",
       "7967   2013-12-31      198\n",
       "5739   2013-12-31      197\n",
       "15204  2013-12-31      195\n",
       "8553   2013-12-31      188\n",
       "8444   2013-12-31      182"
      ]
     },
     "execution_count": 43,
     "metadata": {},
     "output_type": "execute_result"
    }
   ],
   "source": [
    "(\n",
    "    df_ventas.set_index('fecha')\n",
    "    .groupby(['id_pos','fecha'])\n",
    "    .agg({\"unidades\":[\"sum\"]}).sort_values((\"unidades\", \"sum\"), ascending=False)\n",
    "    .head(10)\n",
    ")"
   ]
  }
 ],
 "metadata": {
  "kernelspec": {
   "display_name": "mineria",
   "language": "python",
   "name": "mineria"
  },
  "language_info": {
   "codemirror_mode": {
    "name": "ipython",
    "version": 3
   },
   "file_extension": ".py",
   "mimetype": "text/x-python",
   "name": "python",
   "nbconvert_exporter": "python",
   "pygments_lexer": "ipython3",
   "version": "3.6.8"
  }
 },
 "nbformat": 4,
 "nbformat_minor": 2
}
