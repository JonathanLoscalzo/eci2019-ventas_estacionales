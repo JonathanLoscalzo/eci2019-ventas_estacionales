{
 "cells": [
  {
   "cell_type": "code",
   "execution_count": 1,
   "metadata": {},
   "outputs": [],
   "source": [
    "# OPTIONAL: Load the \"autoreload\" extension so that code can change\n",
    "%load_ext autoreload\n",
    "\n",
    "# OPTIONAL: always reload modules so that as you change code in src, it gets loaded\n",
    "%autoreload 2"
   ]
  },
  {
   "cell_type": "markdown",
   "metadata": {},
   "source": [
    "____\n",
    "### Predicciones"
   ]
  },
  {
   "cell_type": "code",
   "execution_count": 89,
   "metadata": {},
   "outputs": [],
   "source": [
    "import numpy as np \n",
    "import pandas as pd\n",
    "import matplotlib.pyplot as plt\n",
    "\n",
    "import xgboost as xgb\n",
    "from sklearn.ensemble import RandomForestRegressor\n",
    "\n",
    "from sklearn import metrics\n",
    "from sklearn.model_selection import train_test_split\n",
    "# from xgboost import plot_importance, plot_tree\n",
    "\n",
    "from src.common.utils import get_date_for_timestamp_file, get_metrics\n",
    "from src.features.build_features import add_date_features\n",
    "from src.visualization.visualize import plot_importance_reg"
   ]
  },
  {
   "cell_type": "markdown",
   "metadata": {},
   "source": [
    "Para las predicciones se realizaron pruebas con dos algoritmos RandomForest y Xgboost en sus versiones de regresión. \n",
    "\n",
    "En particular, RandomForest es un algoritmo de bagging y Xgboost es un algoritmo de boosting. La forma de trabajar de ambos algoritmos es entrenar árboles débiles, e ir concatenando la respuesta para generar un estimador más potente. Se diferencian según la forma en que genera los estimadores y luego pondera los datos para dar la predicción.\n",
    "\n",
    "![alt text](./img/bagging_vs_boosting.png)\n",
    "\n",
    "Las métricas que utilizamos fueron 3:\n",
    "- \"explained_variance_score\": el mejor valor es 1 y valores chicos son malos. Relacionada con R2\n",
    "- \"mae\": El mejor valor es 0 y es robusto a valores fuera de rango. Corresponde al promedio de error de la suma de todas las muestras.\n",
    "- \"r2\": Computa el coeficiente de determinación, el mejor valor es 1 y valores bajos son malos (pueden ser negativos). Proporciona la calidad del entrenamiento, por lo tanto, una medida de qué tan bien es probable que el modelo prediga muestras invisibles, a través de la proporción de la varianza explicada.\n"
   ]
  },
  {
   "cell_type": "code",
   "execution_count": 4,
   "metadata": {},
   "outputs": [],
   "source": [
    "df_ventas = pd.read_parquet('../data/interim/01-ventas.parquet')"
   ]
  },
  {
   "cell_type": "code",
   "execution_count": 7,
   "metadata": {},
   "outputs": [],
   "source": [
    "df_ventas = df_ventas[[\"id_pos\",\"year\",\"month\",\"unidades\"]]"
   ]
  },
  {
   "cell_type": "code",
   "execution_count": 18,
   "metadata": {},
   "outputs": [],
   "source": [
    "def add_unidades_before(df):\n",
    "    df.unidades = df.unidades.astype('int')\n",
    "    df.loc[:,\"unidades_anterior\"] = df.unidades.shift(1).fillna(-1).astype('int')\n",
    "    df.loc[:,\"unidades_12\"] = df.unidades.shift(12).fillna(-1).astype('int')\n",
    "    df.loc[:,\"unidades_13\"] = df.unidades.shift(13).fillna(-1).astype('int')\n",
    "    df.loc[:,\"unidades_24\"] = df.unidades.shift(24).fillna(-1).astype('int')\n",
    "    df.loc[:,\"unidades_25\"] = df.unidades.shift(25).fillna(-1).astype('int')\n",
    "    return df\n",
    "    "
   ]
  },
  {
   "cell_type": "code",
   "execution_count": 26,
   "metadata": {},
   "outputs": [],
   "source": [
    "df_ventas = (\n",
    "    df_ventas.sort_values(['year','month'])\n",
    "    .groupby(\"id_pos\")\n",
    "    .apply(add_unidades_before)\n",
    ")"
   ]
  },
  {
   "cell_type": "code",
   "execution_count": 107,
   "metadata": {},
   "outputs": [],
   "source": [
    "cols_prediction = [\n",
    "    \"id_pos\", \n",
    "    \"year\", \n",
    "    \"month\", \n",
    "    \"unidades_anterior\", \n",
    "#     \"unidades_12\", \n",
    "#     \"unidades_13\", \n",
    "    \"unidades_24\",\n",
    "    \"unidades_25\"\n",
    "]"
   ]
  },
  {
   "cell_type": "code",
   "execution_count": 108,
   "metadata": {},
   "outputs": [],
   "source": [
    "X = df_ventas.loc[:, cols_prediction]\n",
    "\n",
    "y = df_ventas.loc[:,['unidades']]"
   ]
  },
  {
   "cell_type": "code",
   "execution_count": 109,
   "metadata": {},
   "outputs": [],
   "source": [
    "reg = RandomForestRegressor(\n",
    "    n_estimators=250,\n",
    "    max_depth=8\n",
    ")"
   ]
  },
  {
   "cell_type": "code",
   "execution_count": 110,
   "metadata": {},
   "outputs": [
    {
     "data": {
      "text/plain": [
       "RandomForestRegressor(bootstrap=True, criterion='mse', max_depth=8,\n",
       "                      max_features='auto', max_leaf_nodes=None,\n",
       "                      min_impurity_decrease=0.0, min_impurity_split=None,\n",
       "                      min_samples_leaf=1, min_samples_split=2,\n",
       "                      min_weight_fraction_leaf=0.0, n_estimators=250,\n",
       "                      n_jobs=None, oob_score=False, random_state=None,\n",
       "                      verbose=0, warm_start=False)"
      ]
     },
     "execution_count": 110,
     "metadata": {},
     "output_type": "execute_result"
    }
   ],
   "source": [
    "reg.fit(X, y.values.reshape(-1))"
   ]
  },
  {
   "cell_type": "code",
   "execution_count": 111,
   "metadata": {},
   "outputs": [],
   "source": [
    "reg_xgb = xgb.XGBRFRegressor(\n",
    "    n_estimators=250,\n",
    "    max_depth=8,\n",
    "    missing=-1,\n",
    "    early_stopping_rounds=50,\n",
    "    objective='reg:squarederror',\n",
    "    eval_metric='mae'\n",
    ")"
   ]
  },
  {
   "cell_type": "code",
   "execution_count": 112,
   "metadata": {},
   "outputs": [
    {
     "data": {
      "text/plain": [
       "XGBRFRegressor(base_score=0.5, colsample_bylevel=1, colsample_bynode=0.8,\n",
       "               colsample_bytree=1, early_stopping_rounds=50, eval_metric='mae',\n",
       "               gamma=0, learning_rate=1, max_delta_step=0, max_depth=8,\n",
       "               min_child_weight=1, missing=-1, n_estimators=250, n_jobs=1,\n",
       "               nthread=None, objective='reg:squarederror', random_state=0,\n",
       "               reg_alpha=0, reg_lambda=1, scale_pos_weight=1, seed=None,\n",
       "               silent=None, subsample=0.8, verbosity=1)"
      ]
     },
     "execution_count": 112,
     "metadata": {},
     "output_type": "execute_result"
    }
   ],
   "source": [
    "reg_xgb.fit(X, y.values.reshape(-1))"
   ]
  },
  {
   "cell_type": "code",
   "execution_count": 113,
   "metadata": {},
   "outputs": [
    {
     "data": {
      "text/plain": [
       "{'explained_variance_score': 0.7390015610864822,\n",
       " 'mae': 0.8307794289571055,\n",
       " 'r2': 0.7390015218877473}"
      ]
     },
     "execution_count": 113,
     "metadata": {},
     "output_type": "execute_result"
    }
   ],
   "source": [
    "get_metrics(y, np.round(reg.predict(X)))"
   ]
  },
  {
   "cell_type": "code",
   "execution_count": 114,
   "metadata": {},
   "outputs": [
    {
     "data": {
      "text/plain": [
       "{'explained_variance_score': 0.7272342024590239,\n",
       " 'mae': 0.8460112569451977,\n",
       " 'r2': 0.7272330301540372}"
      ]
     },
     "execution_count": 114,
     "metadata": {},
     "output_type": "execute_result"
    }
   ],
   "source": [
    "get_metrics(y, np.round(reg_xgb.predict(X)))"
   ]
  },
  {
   "cell_type": "markdown",
   "metadata": {},
   "source": [
    "Visualizamos la feature_importance para saber que seleccionó el modelo, y podemos observar que xgboost sobreajusta mucho con la característica \"month\" y no le da tanta importancia a las demás. En cambio, RandomForest si. Podemos verificar que unidades-24 y unidades-25 prácticamente no tuvo importancia en el modelo a la hora de la predicción."
   ]
  },
  {
   "cell_type": "code",
   "execution_count": 115,
   "metadata": {},
   "outputs": [
    {
     "data": {
      "image/png": "[encoded data removed]",
      "text/plain": [
       "<Figure size 864x432 with 1 Axes>"
      ]
     },
     "metadata": {
      "needs_background": "light"
     },
     "output_type": "display_data"
    },
    {
     "data": {
      "image/png": "[encoded data removed]",
      "text/plain": [
       "<Figure size 864x432 with 1 Axes>"
      ]
     },
     "metadata": {
      "needs_background": "light"
     },
     "output_type": "display_data"
    },
    {
     "data": {
      "text/plain": [
       "<matplotlib.axes._subplots.AxesSubplot at 0x7fd31f63e550>"
      ]
     },
     "execution_count": 115,
     "metadata": {},
     "output_type": "execute_result"
    }
   ],
   "source": [
    "plot_importance_reg(reg_xgb, cols_prediction, \"XGBOOST\")\n",
    "plot_importance_reg(reg, cols_prediction, \"RANDOM FOREST\")"
   ]
  },
  {
   "cell_type": "markdown",
   "metadata": {},
   "source": [
    "## Verificando nuestro modelo\n",
    "Utilizamos los modelos para realizar las predicción.\n",
    "En primera instancia, mostramos los valores que predice el modelo para toda la serie en donde tenemos los datos. \n",
    "\n",
    "Podemos observar que las predicciones fueron aproximadamente similares para ambos casos. "
   ]
  },
  {
   "cell_type": "code",
   "execution_count": 116,
   "metadata": {},
   "outputs": [],
   "source": [
    "df_graph = X[[\"id_pos\", \"year\", \"month\"]].copy()\n",
    "df_graph.loc[:, \"unidades\"] = y\n",
    "df_graph.loc[:, \"pred\"] = np.round(reg.predict(X))\n",
    "\n",
    "df_graph = df_graph.groupby([\"year\",\"month\"])[[\"unidades\",\"pred\"]].sum()"
   ]
  },
  {
   "cell_type": "code",
   "execution_count": 117,
   "metadata": {},
   "outputs": [
    {
     "data": {
      "text/plain": [
       "array([<matplotlib.axes._subplots.AxesSubplot object at 0x7fd338032ac8>,\n",
       "       <matplotlib.axes._subplots.AxesSubplot object at 0x7fd31fd7b128>],\n",
       "      dtype=object)"
      ]
     },
     "execution_count": 117,
     "metadata": {},
     "output_type": "execute_result"
    },
    {
     "data": {
      "image/png": "[encoded data removed]",
      "text/plain": [
       "<Figure size 864x432 with 2 Axes>"
      ]
     },
     "metadata": {
      "needs_background": "light"
     },
     "output_type": "display_data"
    }
   ],
   "source": [
    "df_graph.plot.line(figsize=(12,6), subplots=True)"
   ]
  },
  {
   "cell_type": "markdown",
   "metadata": {},
   "source": [
    "### Predicción\n",
    "Generamos nuestra predicción en X_predict para todos los id_pos para el mes de diciembre"
   ]
  },
  {
   "cell_type": "code",
   "execution_count": 118,
   "metadata": {},
   "outputs": [],
   "source": [
    "def assign_unidades_anteriores(ventas_totales, year, month):\n",
    "    return (\n",
    "        ventas_totales\n",
    "        .set_index('id_pos')\n",
    "        [lambda df: (df.year == year) & (df.month==month)]\n",
    "        .unidades\n",
    "        .reindex(ventas_totales.id_pos.unique())\n",
    "        .fillna(0) # o -1?\n",
    "    )\n"
   ]
  },
  {
   "cell_type": "code",
   "execution_count": 119,
   "metadata": {},
   "outputs": [],
   "source": [
    "dt = get_date_for_timestamp_file()"
   ]
  },
  {
   "cell_type": "code",
   "execution_count": 120,
   "metadata": {},
   "outputs": [],
   "source": [
    "X_predict = pd.DataFrame({'id_pos': X.id_pos.unique()})\n",
    "X_predict.loc[:,'fecha'] = pd.date_range('12/1/2014', periods=1, freq='M')\n",
    "add_date_features(X_predict)\n",
    "\n",
    "X_predict = X_predict.loc[:,[\"id_pos\", \"year\", \"month\"]]\n",
    "\n",
    "X_predict.loc[:,\"unidades_anterior\"] = assign_unidades_anteriores(df_ventas, 2014, 11)\n",
    "# X_predict.loc[:,\"unidades_12\"] = assign_unidades_anteriores(df_ventas, 2013, 12)\n",
    "# X_predict.loc[:,\"unidades_13\"] = assign_unidades_anteriores(df_ventas, 2013, 11)\n",
    "X_predict.loc[:,\"unidades_24\"] = assign_unidades_anteriores(df_ventas, 2012, 12)\n",
    "X_predict.loc[:,\"unidades_25\"] = assign_unidades_anteriores(df_ventas, 2012, 11)\n",
    "X_predict.fillna(-1, inplace=True)"
   ]
  },
  {
   "cell_type": "code",
   "execution_count": 121,
   "metadata": {},
   "outputs": [],
   "source": [
    "X_predict.loc[:,\"pred\"] = np.round(reg.predict(X_predict))"
   ]
  },
  {
   "cell_type": "code",
   "execution_count": 122,
   "metadata": {},
   "outputs": [
    {
     "data": {
      "image/png": "[encoded data removed]",
      "text/plain": [
       "<Figure size 864x432 with 2 Axes>"
      ]
     },
     "metadata": {
      "needs_background": "light"
     },
     "output_type": "display_data"
    }
   ],
   "source": [
    "(\n",
    "    df_graph\n",
    "    .append(X_predict.groupby(['year','month'])[[\"pred\"]].sum(), sort=False)\n",
    "    .plot.line(subplots=True, figsize=(12,6))\n",
    ")\n",
    "\n",
    "plt.savefig('../reports/figures/05-01-predicción-{}.svg'.format(dt))"
   ]
  },
  {
   "cell_type": "markdown",
   "metadata": {},
   "source": [
    "Guardamos la respuesta en un archivo"
   ]
  },
  {
   "cell_type": "markdown",
   "metadata": {},
   "source": [
    "Me quedo con todos los id_pos del archivo de respuestas, ya que algunos no tienen ventas, a ellos le agregó unidades \"0\". Los mismos, deben encontrarse ordenados igual que el archivo de ejemplo. "
   ]
  },
  {
   "cell_type": "code",
   "execution_count": 123,
   "metadata": {},
   "outputs": [],
   "source": [
    "df_pos = pd.read_parquet('../data/interim/02-pos.parquet')\n",
    "df_pos = pd.DataFrame(df_pos.reset_index().id_pos.unique(),columns=[\"id_pos\"])"
   ]
  },
  {
   "cell_type": "code",
   "execution_count": 124,
   "metadata": {},
   "outputs": [],
   "source": [
    "(\n",
    "    df_pos\n",
    "    .merge(X_predict[[\"id_pos\",\"pred\"]], how=\"left\")\n",
    "    .fillna(0)[[\"id_pos\",\"pred\"]]\n",
    "    .to_csv('../data/processed/rta-{}.csv'.format(dt), index=False, header=False)\n",
    ")"
   ]
  },
  {
   "cell_type": "code",
   "execution_count": 126,
   "metadata": {},
   "outputs": [],
   "source": [
    "df_ventas.to_parquet('../data/interim/05-ventas.parquet')"
   ]
  },
  {
   "cell_type": "markdown",
   "metadata": {},
   "source": [
    "Guardamos el modelo para que pueda usarse luego."
   ]
  },
  {
   "cell_type": "code",
   "execution_count": 106,
   "metadata": {},
   "outputs": [],
   "source": [
    "import pickle\n",
    "pickle.dump(reg, open('../models/model_{}'.format(dt), 'wb'))"
   ]
  }
 ],
 "metadata": {
  "kernelspec": {
   "display_name": "mineria",
   "language": "python",
   "name": "mineria"
  },
  "language_info": {
   "codemirror_mode": {
    "name": "ipython",
    "version": 3
   },
   "file_extension": ".py",
   "mimetype": "text/x-python",
   "name": "python",
   "nbconvert_exporter": "python",
   "pygments_lexer": "ipython3",
   "version": "3.6.8"
  }
 },
 "nbformat": 4,
 "nbformat_minor": 2
}
