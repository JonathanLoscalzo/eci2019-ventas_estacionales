{
 "cells": [
  {
   "cell_type": "code",
   "execution_count": null,
   "metadata": {},
   "outputs": [],
   "source": []
  },
  {
   "cell_type": "code",
   "execution_count": 2,
   "metadata": {},
   "outputs": [],
   "source": [
    "# OPTIONAL: Load the \"autoreload\" extension so that code can change\n",
    "%load_ext autoreload\n",
    "\n",
    "# OPTIONAL: always reload modules so that as you change code in src, it gets loaded\n",
    "%autoreload 2"
   ]
  },
  {
   "cell_type": "markdown",
   "metadata": {},
   "source": [
    "____\n",
    "### Más Predicciones"
   ]
  },
  {
   "cell_type": "code",
   "execution_count": 3,
   "metadata": {},
   "outputs": [],
   "source": [
    "import numpy as np \n",
    "import pandas as pd\n",
    "import matplotlib.pyplot as plt\n",
    "\n",
    "import xgboost as xgb\n",
    "from sklearn.ensemble import RandomForestRegressor\n",
    "\n",
    "from sklearn import metrics\n",
    "from sklearn.model_selection import train_test_split\n",
    "# from xgboost import plot_importance, plot_tree\n",
    "\n",
    "from src.common.utils import get_date_for_timestamp_file, get_metrics\n",
    "from src.features.build_features import add_date_features, assign_unidades_anteriores\n",
    "from src.visualization.visualize import plot_importance_reg"
   ]
  },
  {
   "cell_type": "markdown",
   "metadata": {},
   "source": [
    "Intentamos agregar las características de POS a la hora de hacer la predicción y ver si nuestro modelo mejora con respecto a sus métricas."
   ]
  },
  {
   "cell_type": "code",
   "execution_count": 30,
   "metadata": {},
   "outputs": [],
   "source": [
    "df_ventas = pd.read_parquet('../data/interim/05-ventas.parquet')\n",
    "df_pos = pd.read_parquet('../data/interim/02-pos.parquet')"
   ]
  },
  {
   "cell_type": "code",
   "execution_count": 5,
   "metadata": {},
   "outputs": [],
   "source": [
    "df_ventas_pos = df_ventas.merge(df_pos, on='id_pos')"
   ]
  },
  {
   "cell_type": "markdown",
   "metadata": {},
   "source": [
    "Realizamos la predicción con todas las columnas y verificamos la importancia que les da el modelo a la hora de dividir"
   ]
  },
  {
   "cell_type": "code",
   "execution_count": 52,
   "metadata": {},
   "outputs": [],
   "source": [
    "cols_prediction = lambda df: ~df.columns.isin([\"unidades\",\"id_pos\", \"unidades_12\", \"unidades_13\"])"
   ]
  },
  {
   "cell_type": "code",
   "execution_count": 53,
   "metadata": {},
   "outputs": [],
   "source": [
    "X = df_ventas_pos.loc[:, cols_prediction]\n",
    "\n",
    "y = df_ventas_pos.loc[:,['unidades']]"
   ]
  },
  {
   "cell_type": "code",
   "execution_count": 54,
   "metadata": {},
   "outputs": [],
   "source": [
    "# reg = RandomForestRegressor(\n",
    "#     n_estimators=250,\n",
    "#     max_depth=8\n",
    "# )\n",
    "reg = xgb.XGBRFRegressor(\n",
    "    n_estimators=250,\n",
    "    max_depth=8,\n",
    "    missing=-1,\n",
    "    early_stopping_rounds=50,\n",
    "    objective='reg:squarederror',\n",
    "    eval_metric='mae'\n",
    ")"
   ]
  },
  {
   "cell_type": "code",
   "execution_count": 55,
   "metadata": {},
   "outputs": [
    {
     "data": {
      "text/plain": [
       "XGBRFRegressor(base_score=0.5, colsample_bylevel=1, colsample_bynode=0.8,\n",
       "               colsample_bytree=1, early_stopping_rounds=50, eval_metric='mae',\n",
       "               gamma=0, learning_rate=1, max_delta_step=0, max_depth=8,\n",
       "               min_child_weight=1, missing=-1, n_estimators=250, n_jobs=1,\n",
       "               nthread=None, objective='reg:squarederror', random_state=0,\n",
       "               reg_alpha=0, reg_lambda=1, scale_pos_weight=1, seed=None,\n",
       "               silent=None, subsample=0.8, verbosity=1)"
      ]
     },
     "execution_count": 55,
     "metadata": {},
     "output_type": "execute_result"
    }
   ],
   "source": [
    "%%time\n",
    "reg.fit(X, y.values.reshape(-1))"
   ]
  },
  {
   "cell_type": "code",
   "execution_count": 56,
   "metadata": {},
   "outputs": [
    {
     "data": {
      "text/plain": [
       "{'explained_variance_score': 0.7756549287525563,\n",
       " 'mae': 0.7363705391040243,\n",
       " 'r2': 0.7756482323979539}"
      ]
     },
     "execution_count": 56,
     "metadata": {},
     "output_type": "execute_result"
    }
   ],
   "source": [
    "get_metrics(y, np.round(reg.predict(X)))"
   ]
  },
  {
   "cell_type": "code",
   "execution_count": 57,
   "metadata": {},
   "outputs": [
    {
     "data": {
      "image/png": "[encoded data removed]",
      "text/plain": [
       "<Figure size 864x432 with 1 Axes>"
      ]
     },
     "metadata": {
      "needs_background": "light"
     },
     "output_type": "display_data"
    },
    {
     "data": {
      "text/plain": [
       "<matplotlib.axes._subplots.AxesSubplot at 0x7f7da0408b70>"
      ]
     },
     "execution_count": 57,
     "metadata": {},
     "output_type": "execute_result"
    }
   ],
   "source": [
    "plot_importance_reg(reg, X.columns, \"RANDOM FOREST_all_features.svg\")"
   ]
  },
  {
   "cell_type": "markdown",
   "metadata": {},
   "source": [
    "### Verificamos la predicción"
   ]
  },
  {
   "cell_type": "code",
   "execution_count": 63,
   "metadata": {},
   "outputs": [],
   "source": [
    "dt = get_date_for_timestamp_file()"
   ]
  },
  {
   "cell_type": "code",
   "execution_count": 64,
   "metadata": {},
   "outputs": [],
   "source": [
    "df_graph = df_ventas[[\"id_pos\", \"year\", \"month\"]].copy()\n",
    "df_graph.loc[:, \"unidades\"] = y\n",
    "df_graph.loc[:, \"pred\"] = np.round(reg.predict(X))\n",
    "\n",
    "df_graph = df_graph.groupby([\"year\",\"month\"])[[\"unidades\",\"pred\"]].sum()"
   ]
  },
  {
   "cell_type": "code",
   "execution_count": 65,
   "metadata": {},
   "outputs": [],
   "source": [
    "X_predict = pd.DataFrame({'id_pos': df_ventas.id_pos.unique()})\n",
    "X_predict.loc[:,'fecha'] = pd.date_range('12/1/2014', periods=1, freq='M')\n",
    "add_date_features(X_predict)\n",
    "\n",
    "X_predict = X_predict.merge(df_pos, on=\"id_pos\")\n",
    "X_predict.loc[:,\"unidades_anterior\"] = assign_unidades_anteriores(df_ventas, 2014, 11)\n",
    "# X_predict.loc[:,\"unidades_12\"] = assign_unidades_anteriores(df_ventas, 2013, 12)\n",
    "# X_predict.loc[:,\"unidades_13\"] = assign_unidades_anteriores(df_ventas, 2013, 11)\n",
    "X_predict.loc[:,\"unidades_24\"] = assign_unidades_anteriores(df_ventas, 2012, 12)\n",
    "X_predict.loc[:,\"unidades_25\"] = assign_unidades_anteriores(df_ventas, 2012, 11)\n",
    "X_predict.fillna(-1, inplace=True)\n",
    "X_predict = X_predict.loc[:, list(X.columns) +[\"id_pos\"]]"
   ]
  },
  {
   "cell_type": "code",
   "execution_count": 66,
   "metadata": {},
   "outputs": [],
   "source": [
    "X_predict.loc[:,\"pred\"] = np.round(reg.predict(X_predict.loc[:,~X_predict.columns.isin([\"id_pos\"])]))"
   ]
  },
  {
   "cell_type": "code",
   "execution_count": 67,
   "metadata": {},
   "outputs": [
    {
     "data": {
      "image/png": "[encoded data removed]",
      "text/plain": [
       "<Figure size 864x432 with 2 Axes>"
      ]
     },
     "metadata": {
      "needs_background": "light"
     },
     "output_type": "display_data"
    }
   ],
   "source": [
    "(\n",
    "    df_graph\n",
    "    .append(X_predict.groupby(['year','month'])[[\"pred\"]].sum(), sort=False)\n",
    "    .plot.line(subplots=True, figsize=(12,6))\n",
    ")\n",
    "\n",
    "plt.savefig('../reports/figures/06-01-predicción-{}.svg'.format(dt))"
   ]
  },
  {
   "cell_type": "markdown",
   "metadata": {},
   "source": [
    "Guardamos la respuesta en un archivo"
   ]
  },
  {
   "cell_type": "markdown",
   "metadata": {},
   "source": [
    "Me quedo con todos los id_pos del archivo de respuestas, ya que algunos no tienen ventas, a ellos le agregó unidades \"0\". Los mismos, deben encontrarse ordenados igual que el archivo de ejemplo. "
   ]
  },
  {
   "cell_type": "code",
   "execution_count": 68,
   "metadata": {},
   "outputs": [],
   "source": [
    "(\n",
    "    df_pos.reset_index()\n",
    "    .merge(X_predict, on=\"id_pos\", how=\"left\")\n",
    "    .fillna(0)[[\"id_pos\",\"pred\"]]\n",
    "    .astype(\"int\")\n",
    "    .to_csv('../data/processed/rta-06-{}.csv'.format(dt), index=False, header=False)\n",
    ")"
   ]
  },
  {
   "cell_type": "markdown",
   "metadata": {},
   "source": [
    "Seguramente las columnas de tipo_pos_venta (MUCHAS, POCAS, MEDIO) estén directamente relacionadas con la respuesta. Si las quitamos no creemos obtener mejores resultados.\n"
   ]
  }
 ],
 "metadata": {
  "kernelspec": {
   "display_name": "mineria",
   "language": "python",
   "name": "mineria"
  },
  "language_info": {
   "codemirror_mode": {
    "name": "ipython",
    "version": 3
   },
   "file_extension": ".py",
   "mimetype": "text/x-python",
   "name": "python",
   "nbconvert_exporter": "python",
   "pygments_lexer": "ipython3",
   "version": "3.6.8"
  }
 },
 "nbformat": 4,
 "nbformat_minor": 2
}
