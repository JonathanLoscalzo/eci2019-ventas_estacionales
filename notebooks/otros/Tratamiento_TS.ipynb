{
 "cells": [
  {
   "cell_type": "code",
   "execution_count": 2,
   "metadata": {},
   "outputs": [],
   "source": [
    "import numpy as np \n",
    "import pandas as pd\n",
    "import matplotlib.pyplot as plt\n",
    "\n",
    "import xgboost as xgb\n",
    "from sklearn.ensemble import RandomForestRegressor\n",
    "\n",
    "from sklearn import metrics\n",
    "# from sklearn.model_selection import train_test_split, cross_val_score\n",
    "from xgboost import plot_importance, plot_tree\n",
    "\n",
    "from src.common.utils import get_date_for_timestamp_file, get_metrics"
   ]
  },
  {
   "cell_type": "markdown",
   "metadata": {},
   "source": [
    "Importamos las ventas tratadas, luego importamos el archivo de ejemplo para saber cuales son los id_pos que tenemos que entregar\n",
    "\n",
    "En 01-ventas.parquet tenemos las ventas válidas, las que no tienen unidades positivas y las que correspondientes a los id_pos que se encuentra en el archivo ejemplo. De todas formas, importamos el archivo y realizas el merge para quedarnos solo con las ventas correspondientes a los id_pos (en este caso todas)\n",
    "\n",
    "*ver [02-analisis_exploratorio_pos](./02-analisis-exploratorio-pos.ipynb)*"
   ]
  },
  {
   "cell_type": "code",
   "execution_count": 5,
   "metadata": {},
   "outputs": [],
   "source": [
    "df_ventas = pd.read_parquet('../../data/interim/01-ventas.parquet')[['id_pos','fecha','unidades']]\n",
    "df_ej_resp = pd.read_csv('../../data/raw/ejemploRespuesta.csv', names=[\"id_pos\", \"unidades\"])"
   ]
  },
  {
   "cell_type": "code",
   "execution_count": 6,
   "metadata": {},
   "outputs": [
    {
     "data": {
      "text/plain": [
       "array([   288,    953,   1004, ..., 129492, 129746, 131072])"
      ]
     },
     "execution_count": 6,
     "metadata": {},
     "output_type": "execute_result"
    }
   ],
   "source": [
    "all_pos = df_ej_resp.id_pos.unique()\n",
    "all_pos"
   ]
  },
  {
   "cell_type": "markdown",
   "metadata": {},
   "source": [
    "Función que agrega características de fechas al dataset"
   ]
  },
  {
   "cell_type": "code",
   "execution_count": 12,
   "metadata": {},
   "outputs": [],
   "source": [
    "def add_date_features(df, col_name=\"fecha\"):\n",
    "    \"\"\"\n",
    "    Esta función transforma una columna que se recibe como parámetro, \n",
    "    en varias columnas derivadas. \n",
    "    \"\"\"\n",
    "    df['year'] = df[col_name].dt.year\n",
    "    df['dayofyear'] = df[col_name].dt.dayofyear\n",
    "    df['month'] = df[col_name].dt.month\n",
    "    df = df.drop([col_name], axis=1, errors='ignore')\n",
    "\n",
    "def add_unidades_before(df):\n",
    "    df.unidades = df.unidades.astype('int')\n",
    "    df.loc[:,\"unidades_anterior\"] = df.unidades.shift(1).fillna(-1).astype('int')\n",
    "    df.loc[:,\"unidades_12\"] = df.unidades.shift(12).fillna(-1).astype('int')\n",
    "    df.loc[:,\"unidades_13\"] = df.unidades.shift(13).fillna(-1).astype('int')\n",
    "    df.loc[:,\"unidades_24\"] = df.unidades.shift(24).fillna(-1).astype('int')\n",
    "    df.loc[:,\"unidades_25\"] = df.unidades.shift(25).fillna(-1).astype('int')\n",
    "    return df"
   ]
  },
  {
   "cell_type": "markdown",
   "metadata": {},
   "source": [
    "De todas las ventas, solamente nos quedamos con las que tienen id_pos que aparecen en archivo de respuesta, realizamos un resample de los datos"
   ]
  },
  {
   "cell_type": "code",
   "execution_count": 13,
   "metadata": {},
   "outputs": [],
   "source": [
    "ventas_totales = (\n",
    "    df_ventas[lambda df: df.id_pos.isin(all_pos)]\n",
    "    .set_index('fecha')\n",
    "    [['id_pos', 'unidades']]\n",
    "    .groupby('id_pos')\n",
    "    .resample('M')\n",
    "    .sum()\n",
    "    .drop('id_pos', axis=1)\n",
    "    .fillna(0)\n",
    "    .reset_index()\n",
    ")"
   ]
  },
  {
   "cell_type": "code",
   "execution_count": 14,
   "metadata": {},
   "outputs": [],
   "source": [
    "add_date_features(ventas_totales)"
   ]
  },
  {
   "cell_type": "code",
   "execution_count": 15,
   "metadata": {},
   "outputs": [],
   "source": [
    "ventas_totales = (\n",
    "    ventas_totales.sort_values(['year','month'])\n",
    "    .groupby(\"id_pos\")\n",
    "    .apply(add_unidades_before)\n",
    ")"
   ]
  },
  {
   "cell_type": "code",
   "execution_count": 16,
   "metadata": {},
   "outputs": [],
   "source": [
    "X = ventas_totales.loc[:,[\"id_pos\", \n",
    "                          \"year\", \n",
    "                          \"month\", \n",
    "                          \"unidades_anterior\", \n",
    "#                           \"unidades_12\", \n",
    "#                           \"unidades_13\", \n",
    "                          \"unidades_24\",\n",
    "                          \"unidades_25\"\n",
    "                         ]]\n",
    "\n",
    "y = ventas_totales.loc[:,['unidades']]"
   ]
  },
  {
   "cell_type": "markdown",
   "metadata": {},
   "source": [
    "Generamos nuestro modelo de regresión "
   ]
  },
  {
   "cell_type": "code",
   "execution_count": 17,
   "metadata": {},
   "outputs": [],
   "source": [
    "# reg = xgb.XGBRFRegressor(\n",
    "#     n_estimators=250,\n",
    "#     max_depth=8,\n",
    "#     missing=-1,\n",
    "#     early_stopping_rounds=50,\n",
    "#     objective='reg:squarederror',\n",
    "#     eval_metric='mae'\n",
    "# )\n",
    "\n",
    "reg = RandomForestRegressor(\n",
    "    n_estimators=250,\n",
    "    max_depth=8\n",
    ")"
   ]
  },
  {
   "cell_type": "code",
   "execution_count": 18,
   "metadata": {},
   "outputs": [
    {
     "data": {
      "text/plain": [
       "RandomForestRegressor(bootstrap=True, criterion='mse', max_depth=8,\n",
       "                      max_features='auto', max_leaf_nodes=None,\n",
       "                      min_impurity_decrease=0.0, min_impurity_split=None,\n",
       "                      min_samples_leaf=1, min_samples_split=2,\n",
       "                      min_weight_fraction_leaf=0.0, n_estimators=250,\n",
       "                      n_jobs=None, oob_score=False, random_state=None,\n",
       "                      verbose=0, warm_start=False)"
      ]
     },
     "execution_count": 18,
     "metadata": {},
     "output_type": "execute_result"
    }
   ],
   "source": [
    "reg.fit(X, y.values.reshape(-1))"
   ]
  },
  {
   "cell_type": "code",
   "execution_count": 19,
   "metadata": {},
   "outputs": [
    {
     "data": {
      "text/plain": [
       "{'explained_variance_score': 0.739199282956488,\n",
       " 'mae': 0.8311699268419086,\n",
       " 'r2': 0.7391992294862253}"
      ]
     },
     "execution_count": 19,
     "metadata": {},
     "output_type": "execute_result"
    }
   ],
   "source": [
    "get_metrics(y, np.round(reg.predict(X)))"
   ]
  },
  {
   "cell_type": "markdown",
   "metadata": {},
   "source": [
    "## Verificando nuestro modelo\n",
    "Utilizamos los modelos para realizar las predicción.\n",
    "En primera instancia, mostramos los valores que predice el modelo para toda la serie en donde tenemos los datos. \n",
    "\n",
    "Podemos observar que las predicciones fueron aproximadamente similares para ambos casos. "
   ]
  },
  {
   "cell_type": "code",
   "execution_count": 20,
   "metadata": {},
   "outputs": [],
   "source": [
    "df_graph = X[[\"id_pos\", \"year\", \"month\"]].copy()\n",
    "df_graph.loc[:, \"unidades\"] = y\n",
    "df_graph.loc[:, \"pred\"] = np.round(reg.predict(X))\n",
    "\n",
    "df_graph = df_graph.groupby([\"year\",\"month\"])[[\"unidades\",\"pred\"]].sum()"
   ]
  },
  {
   "cell_type": "code",
   "execution_count": 21,
   "metadata": {},
   "outputs": [
    {
     "data": {
      "text/plain": [
       "array([<matplotlib.axes._subplots.AxesSubplot object at 0x7f0719173240>,\n",
       "       <matplotlib.axes._subplots.AxesSubplot object at 0x7f070bc52940>],\n",
       "      dtype=object)"
      ]
     },
     "execution_count": 21,
     "metadata": {},
     "output_type": "execute_result"
    },
    {
     "data": {
      "image/png": "[encoded data removed]",
      "text/plain": [
       "<Figure size 864x432 with 2 Axes>"
      ]
     },
     "metadata": {
      "needs_background": "light"
     },
     "output_type": "display_data"
    }
   ],
   "source": [
    "df_graph.plot.line(figsize=(12,6), subplots=True)"
   ]
  },
  {
   "cell_type": "markdown",
   "metadata": {},
   "source": [
    "### Predicción\n",
    "Generamos nuestra predicción en X_predict para todos los id_pos para el mes de diciembre"
   ]
  },
  {
   "cell_type": "code",
   "execution_count": 22,
   "metadata": {},
   "outputs": [],
   "source": [
    "def assign_unidades_anteriores(ventas_totales, year, month):\n",
    "    return (\n",
    "        ventas_totales\n",
    "        .set_index('id_pos')\n",
    "        [lambda df: (df.year == year) & (df.month==month)]\n",
    "        .unidades\n",
    "        .reindex(ventas_totales.id_pos.unique())\n",
    "        .fillna(0) # o -1?\n",
    "    )\n"
   ]
  },
  {
   "cell_type": "code",
   "execution_count": 23,
   "metadata": {},
   "outputs": [],
   "source": [
    "X_predict = pd.DataFrame({'id_pos':X.id_pos.unique()})\n",
    "X_predict.loc[:,'fecha'] = pd.date_range('12/1/2014', periods=1, freq='M')\n",
    "add_date_features(X_predict)\n",
    "\n",
    "X_predict = X_predict.loc[:,[\"id_pos\", \"year\", \"month\"]]\n",
    "\n",
    "X_predict.loc[:,\"unidades_anterior\"] = assign_unidades_anteriores(ventas_totales, 2014, 11)\n",
    "# X_predict.loc[:,\"unidades_12\"] = assign_unidades_anteriores(ventas_totales, 2013, 12)\n",
    "# X_predict.loc[:,\"unidades_13\"] = assign_unidades_anteriores(ventas_totales, 2013, 11)\n",
    "X_predict.loc[:,\"unidades_24\"] = assign_unidades_anteriores(ventas_totales, 2012, 12)\n",
    "X_predict.loc[:,\"unidades_25\"] = assign_unidades_anteriores(ventas_totales, 2012, 11)\n",
    "X_predict.fillna(-1, inplace=True)"
   ]
  },
  {
   "cell_type": "code",
   "execution_count": 24,
   "metadata": {},
   "outputs": [],
   "source": [
    "X_predict.loc[:,\"pred\"] = np.round(reg.predict(X_predict))"
   ]
  },
  {
   "cell_type": "code",
   "execution_count": 25,
   "metadata": {},
   "outputs": [
    {
     "data": {
      "text/plain": [
       "array([<matplotlib.axes._subplots.AxesSubplot object at 0x7f070bb5fb38>,\n",
       "       <matplotlib.axes._subplots.AxesSubplot object at 0x7f070baf02e8>],\n",
       "      dtype=object)"
      ]
     },
     "execution_count": 25,
     "metadata": {},
     "output_type": "execute_result"
    },
    {
     "data": {
      "image/png": "[encoded data removed]",
      "text/plain": [
       "<Figure size 864x432 with 2 Axes>"
      ]
     },
     "metadata": {
      "needs_background": "light"
     },
     "output_type": "display_data"
    }
   ],
   "source": [
    "(\n",
    "    df_graph\n",
    "    .append(X_predict.groupby(['year','month'])[[\"pred\"]].sum(), sort=False)\n",
    "    .plot.line(subplots=True, figsize=(12,6))\n",
    ")"
   ]
  },
  {
   "cell_type": "markdown",
   "metadata": {},
   "source": [
    "Guardamos la respuesta en un archivo"
   ]
  },
  {
   "cell_type": "markdown",
   "metadata": {},
   "source": [
    "Me quedo con todos los id_pos del archivo de respuestas, ya que algunos no tienen ventas, a ellos le agregó unidades \"0\". Los mismos, deben encontrarse ordenados igual que el archivo de ejemplo. "
   ]
  },
  {
   "cell_type": "code",
   "execution_count": 26,
   "metadata": {},
   "outputs": [],
   "source": [
    "dt = get_date_for_timestamp_file()\n",
    "\n",
    "(\n",
    "    df_ej_resp\n",
    "    .merge(X_predict[[\"id_pos\",\"pred\"]], how=\"left\")\n",
    "    .fillna(0)[[\"id_pos\",\"pred\"]]\n",
    "    .to_csv('../../data/old/rtas/rta-{}.csv'.format(dt), index=False, header=False)\n",
    ")"
   ]
  },
  {
   "cell_type": "markdown",
   "metadata": {},
   "source": [
    "Guardamos el modelo para que pueda usarse luego."
   ]
  },
  {
   "cell_type": "code",
   "execution_count": 740,
   "metadata": {},
   "outputs": [],
   "source": [
    "import pickle\n",
    "pickle.dump(reg, open('../models/model_{}'.format(dt), 'wb'))"
   ]
  }
 ],
 "metadata": {
  "kernelspec": {
   "display_name": "mineria",
   "language": "python",
   "name": "mineria"
  },
  "language_info": {
   "codemirror_mode": {
    "name": "ipython",
    "version": 3
   },
   "file_extension": ".py",
   "mimetype": "text/x-python",
   "name": "python",
   "nbconvert_exporter": "python",
   "pygments_lexer": "ipython3",
   "version": "3.6.8"
  }
 },
 "nbformat": 4,
 "nbformat_minor": 2
}
